{
  "nbformat": 4,
  "nbformat_minor": 0,
  "metadata": {
    "colab": {
      "provenance": []
    },
    "kernelspec": {
      "name": "python3",
      "display_name": "Python 3"
    },
    "language_info": {
      "name": "python"
    }
  },
  "cells": [
    {
      "cell_type": "code",
      "source": [
        "!pip install --upgrade openai"
      ],
      "metadata": {
        "colab": {
          "base_uri": "https://localhost:8080/"
        },
        "id": "5lzyOi-J0VKk",
        "outputId": "78943a68-9d91-46fe-acd6-581f36a30a71"
      },
      "execution_count": 1,
      "outputs": [
        {
          "output_type": "stream",
          "name": "stdout",
          "text": [
            "Requirement already satisfied: openai in /usr/local/lib/python3.10/dist-packages (1.54.5)\n",
            "Collecting openai\n",
            "  Downloading openai-1.57.0-py3-none-any.whl.metadata (24 kB)\n",
            "Requirement already satisfied: anyio<5,>=3.5.0 in /usr/local/lib/python3.10/dist-packages (from openai) (3.7.1)\n",
            "Requirement already satisfied: distro<2,>=1.7.0 in /usr/local/lib/python3.10/dist-packages (from openai) (1.9.0)\n",
            "Requirement already satisfied: httpx<1,>=0.23.0 in /usr/local/lib/python3.10/dist-packages (from openai) (0.28.0)\n",
            "Requirement already satisfied: jiter<1,>=0.4.0 in /usr/local/lib/python3.10/dist-packages (from openai) (0.8.0)\n",
            "Requirement already satisfied: pydantic<3,>=1.9.0 in /usr/local/lib/python3.10/dist-packages (from openai) (2.10.3)\n",
            "Requirement already satisfied: sniffio in /usr/local/lib/python3.10/dist-packages (from openai) (1.3.1)\n",
            "Requirement already satisfied: tqdm>4 in /usr/local/lib/python3.10/dist-packages (from openai) (4.66.6)\n",
            "Requirement already satisfied: typing-extensions<5,>=4.11 in /usr/local/lib/python3.10/dist-packages (from openai) (4.12.2)\n",
            "Requirement already satisfied: idna>=2.8 in /usr/local/lib/python3.10/dist-packages (from anyio<5,>=3.5.0->openai) (3.10)\n",
            "Requirement already satisfied: exceptiongroup in /usr/local/lib/python3.10/dist-packages (from anyio<5,>=3.5.0->openai) (1.2.2)\n",
            "Requirement already satisfied: certifi in /usr/local/lib/python3.10/dist-packages (from httpx<1,>=0.23.0->openai) (2024.8.30)\n",
            "Requirement already satisfied: httpcore==1.* in /usr/local/lib/python3.10/dist-packages (from httpx<1,>=0.23.0->openai) (1.0.7)\n",
            "Requirement already satisfied: h11<0.15,>=0.13 in /usr/local/lib/python3.10/dist-packages (from httpcore==1.*->httpx<1,>=0.23.0->openai) (0.14.0)\n",
            "Requirement already satisfied: annotated-types>=0.6.0 in /usr/local/lib/python3.10/dist-packages (from pydantic<3,>=1.9.0->openai) (0.7.0)\n",
            "Requirement already satisfied: pydantic-core==2.27.1 in /usr/local/lib/python3.10/dist-packages (from pydantic<3,>=1.9.0->openai) (2.27.1)\n",
            "Downloading openai-1.57.0-py3-none-any.whl (389 kB)\n",
            "\u001b[2K   \u001b[90m━━━━━━━━━━━━━━━━━━━━━━━━━━━━━━━━━━━━━━━━\u001b[0m \u001b[32m389.9/389.9 kB\u001b[0m \u001b[31m7.9 MB/s\u001b[0m eta \u001b[36m0:00:00\u001b[0m\n",
            "\u001b[?25hInstalling collected packages: openai\n",
            "  Attempting uninstall: openai\n",
            "    Found existing installation: openai 1.54.5\n",
            "    Uninstalling openai-1.54.5:\n",
            "      Successfully uninstalled openai-1.54.5\n",
            "Successfully installed openai-1.57.0\n"
          ]
        }
      ]
    },
    {
      "cell_type": "code",
      "source": [
        "# Import libraries\n",
        "import openai\n",
        "\n",
        "# Set your OpenAI API key\n",
        "from google.colab import userdata\n",
        "lm_client = openai.OpenAI(api_key = userdata.get('OPENAI_API_KEY'))  # Replace with your OpenAI key"
      ],
      "metadata": {
        "id": "l59dGaFT0VNb"
      },
      "execution_count": 2,
      "outputs": []
    },
    {
      "cell_type": "code",
      "execution_count": 5,
      "metadata": {
        "id": "v1sjZVihy7D9"
      },
      "outputs": [],
      "source": [
        "import json\n",
        "\n",
        "# Define the tools (functions) for support ticket management\n",
        "tools = [\n",
        "    {\n",
        "        \"name\": \"ticket_manager\",\n",
        "        \"description\": \"Handles support tickets by identifying the appropriate action and extracting necessary details.\",\n",
        "        \"parameters\": {\n",
        "            \"type\": \"object\",\n",
        "            \"strict\": True,\n",
        "            \"properties\": {\n",
        "                \"action\": {\n",
        "                    \"type\": \"string\",\n",
        "                    \"enum\": [\"create\", \"update\", \"close\", \"view\"],\n",
        "                    \"description\": \"The action to take on a support ticket.\"\n",
        "                },\n",
        "                \"team\": {\n",
        "                    \"type\": \"string\",\n",
        "                    \"enum\": [\"technical\", \"billing\", \"general\", \"product\"],\n",
        "                    \"description\": \"The team responsible for addressing the ticket.\"\n",
        "                },\n",
        "                \"ticket_details\": {\n",
        "                    \"type\": \"object\",\n",
        "                    \"description\": \"Details of the ticket, such as issue description, ticket ID, or priority.\",\n",
        "                }\n",
        "            },\n",
        "            \"required\": [\"action\", \"team\"],\n",
        "        },\n",
        "    }\n",
        "]"
      ]
    },
    {
      "cell_type": "code",
      "source": [
        "\n",
        "# Define the LLM router for support ticket management\n",
        "def support_ticket_router_llm(lm_client, user_query):\n",
        "    system_message = '''\n",
        "    Support Ticket Routing System\n",
        "\n",
        "    Overview:\n",
        "    This system processes customer support queries and routes them to the appropriate team or action. The output includes the action, team, and relevant ticket details.\n",
        "\n",
        "    Actions:\n",
        "    - create: Create a new support ticket.\n",
        "    - update: Update an existing ticket with new details.\n",
        "    - close: Close a resolved ticket.\n",
        "    - view: Retrieve ticket status or details.\n",
        "\n",
        "    Teams:\n",
        "    - technical: Handles issues like software bugs or system errors.\n",
        "    - billing: Deals with payment issues, refunds, or invoices.\n",
        "    - general: General inquiries or non-specific support needs.\n",
        "    - product: Questions about product features, usage, or documentation.\n",
        "\n",
        "    Query Examples:\n",
        "    1. \"I need help with a billing issue; my payment failed.\"\n",
        "       Output:\n",
        "       {\n",
        "           \"action\": \"create\",\n",
        "           \"team\": \"billing\",\n",
        "           \"ticket_details\": {\"description\": \"Payment failed\"}\n",
        "       }\n",
        "\n",
        "    2. \"Update my technical issue ticket #12345 with the error logs.\"\n",
        "       Output:\n",
        "       {\n",
        "           \"action\": \"update\",\n",
        "           \"team\": \"technical\",\n",
        "           \"ticket_details\": {\"ticket_id\": \"12345\", \"update_info\": \"Error logs attached\"}\n",
        "       }\n",
        "\n",
        "    3. \"Close the ticket #67890 as the issue is resolved.\"\n",
        "       Output:\n",
        "       {\n",
        "           \"action\": \"close\",\n",
        "           \"team\": \"general\",\n",
        "           \"ticket_details\": {\"ticket_id\": \"67890\"}\n",
        "       }\n",
        "\n",
        "    4. \"Check the status of my product question, ticket #54321.\"\n",
        "       Output:\n",
        "       {\n",
        "           \"action\": \"view\",\n",
        "           \"team\": \"product\",\n",
        "           \"ticket_details\": {\"ticket_id\": \"54321\"}\n",
        "       }\n",
        "\n",
        "    Instructions:\n",
        "    Detect the action and team from the user query, and extract additional details as needed. Ensure the output is structured as JSON.\n",
        "    '''\n",
        "\n",
        "    messages = [\n",
        "        {\"role\": \"system\", \"content\": system_message},\n",
        "        {\"role\": \"user\", \"content\": user_query},\n",
        "    ]\n",
        "\n",
        "    response = lm_client.chat.completions.create(\n",
        "        model=\"gpt-4o-mini\",\n",
        "        messages=messages,\n",
        "        max_tokens=4000,\n",
        "        temperature=0.2,\n",
        "        functions=tools,\n",
        "        function_call={\"name\": \"ticket_manager\"},\n",
        "    )\n",
        "\n",
        "    # Parse response and extract details\n",
        "    arguments = json.loads(response.choices[0].message.function_call.arguments)\n",
        "\n",
        "    action = arguments['action']\n",
        "    team = arguments['team']\n",
        "    ticket_details = arguments.get('ticket_details', {})\n",
        "    return action, team, ticket_details"
      ],
      "metadata": {
        "id": "Arhp5avr0VQ3"
      },
      "execution_count": 6,
      "outputs": []
    },
    {
      "cell_type": "code",
      "source": [
        "# Example usage\n",
        "user_query = \"I need to create a technical ticket about a system crash.\"\n",
        "action, team, ticket_details = support_ticket_router_llm(lm_client, user_query)\n",
        "\n",
        "print(f\"Action: {action}, Team: {team}, Ticket Details: {ticket_details}\")"
      ],
      "metadata": {
        "colab": {
          "base_uri": "https://localhost:8080/"
        },
        "id": "Ufe0ruUn1Frd",
        "outputId": "75ae87c2-667f-4462-f237-65ea6ada3008"
      },
      "execution_count": 7,
      "outputs": [
        {
          "output_type": "stream",
          "name": "stdout",
          "text": [
            "Action: create, Team: technical, Ticket Details: {}\n"
          ]
        }
      ]
    }
  ]
}