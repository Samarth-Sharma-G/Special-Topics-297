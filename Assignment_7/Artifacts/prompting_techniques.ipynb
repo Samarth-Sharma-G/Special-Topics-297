{
  "nbformat": 4,
  "nbformat_minor": 0,
  "metadata": {
    "colab": {
      "provenance": [],
      "toc_visible": true
    },
    "kernelspec": {
      "name": "python3",
      "display_name": "Python 3"
    },
    "language_info": {
      "name": "python"
    }
  },
  "cells": [
    {
      "cell_type": "code",
      "execution_count": 1,
      "metadata": {
        "colab": {
          "base_uri": "https://localhost:8080/"
        },
        "id": "Jv9Jj6FqibJP",
        "outputId": "51d049fe-3dd5-4b7d-919f-0c42ef25072a"
      },
      "outputs": [
        {
          "output_type": "stream",
          "name": "stdout",
          "text": [
            "Requirement already satisfied: openai in /usr/local/lib/python3.10/dist-packages (1.54.5)\n",
            "Collecting openai\n",
            "  Downloading openai-1.57.0-py3-none-any.whl.metadata (24 kB)\n",
            "Requirement already satisfied: anyio<5,>=3.5.0 in /usr/local/lib/python3.10/dist-packages (from openai) (3.7.1)\n",
            "Requirement already satisfied: distro<2,>=1.7.0 in /usr/local/lib/python3.10/dist-packages (from openai) (1.9.0)\n",
            "Requirement already satisfied: httpx<1,>=0.23.0 in /usr/local/lib/python3.10/dist-packages (from openai) (0.28.0)\n",
            "Requirement already satisfied: jiter<1,>=0.4.0 in /usr/local/lib/python3.10/dist-packages (from openai) (0.8.0)\n",
            "Requirement already satisfied: pydantic<3,>=1.9.0 in /usr/local/lib/python3.10/dist-packages (from openai) (2.10.3)\n",
            "Requirement already satisfied: sniffio in /usr/local/lib/python3.10/dist-packages (from openai) (1.3.1)\n",
            "Requirement already satisfied: tqdm>4 in /usr/local/lib/python3.10/dist-packages (from openai) (4.66.6)\n",
            "Requirement already satisfied: typing-extensions<5,>=4.11 in /usr/local/lib/python3.10/dist-packages (from openai) (4.12.2)\n",
            "Requirement already satisfied: idna>=2.8 in /usr/local/lib/python3.10/dist-packages (from anyio<5,>=3.5.0->openai) (3.10)\n",
            "Requirement already satisfied: exceptiongroup in /usr/local/lib/python3.10/dist-packages (from anyio<5,>=3.5.0->openai) (1.2.2)\n",
            "Requirement already satisfied: certifi in /usr/local/lib/python3.10/dist-packages (from httpx<1,>=0.23.0->openai) (2024.8.30)\n",
            "Requirement already satisfied: httpcore==1.* in /usr/local/lib/python3.10/dist-packages (from httpx<1,>=0.23.0->openai) (1.0.7)\n",
            "Requirement already satisfied: h11<0.15,>=0.13 in /usr/local/lib/python3.10/dist-packages (from httpcore==1.*->httpx<1,>=0.23.0->openai) (0.14.0)\n",
            "Requirement already satisfied: annotated-types>=0.6.0 in /usr/local/lib/python3.10/dist-packages (from pydantic<3,>=1.9.0->openai) (0.7.0)\n",
            "Requirement already satisfied: pydantic-core==2.27.1 in /usr/local/lib/python3.10/dist-packages (from pydantic<3,>=1.9.0->openai) (2.27.1)\n",
            "Downloading openai-1.57.0-py3-none-any.whl (389 kB)\n",
            "\u001b[2K   \u001b[90m━━━━━━━━━━━━━━━━━━━━━━━━━━━━━━━━━━━━━━━━\u001b[0m \u001b[32m389.9/389.9 kB\u001b[0m \u001b[31m14.1 MB/s\u001b[0m eta \u001b[36m0:00:00\u001b[0m\n",
            "\u001b[?25hInstalling collected packages: openai\n",
            "  Attempting uninstall: openai\n",
            "    Found existing installation: openai 1.54.5\n",
            "    Uninstalling openai-1.54.5:\n",
            "      Successfully uninstalled openai-1.54.5\n",
            "Successfully installed openai-1.57.0\n"
          ]
        }
      ],
      "source": [
        "!pip install --upgrade openai"
      ]
    },
    {
      "cell_type": "code",
      "source": [
        "# Import libraries\n",
        "import openai\n",
        "\n",
        "# Set your OpenAI API key\n",
        "from google.colab import userdata\n",
        "lm_client = openai.OpenAI(api_key = userdata.get('OPENAI_API_KEY'))  # Replace with your OpenAI key"
      ],
      "metadata": {
        "id": "yjY-C894kF-1"
      },
      "execution_count": 2,
      "outputs": []
    },
    {
      "cell_type": "code",
      "source": [
        "# Define a function to query GPT-3.5 or GPT-4\n",
        "def query_gpt(prompt, model=\"gpt-4o-mini\"):\n",
        "    response = lm_client.chat.completions.create(\n",
        "        model=model,\n",
        "        messages=[{\"role\": \"user\", \"content\": prompt}],\n",
        "        max_tokens=1000,\n",
        "        temperature=0,\n",
        "        seed = 9,\n",
        "    )\n",
        "    return response.choices[0].message.content"
      ],
      "metadata": {
        "id": "zoDRWOg6kpif"
      },
      "execution_count": 5,
      "outputs": []
    },
    {
      "cell_type": "markdown",
      "source": [
        "### ICL"
      ],
      "metadata": {
        "id": "WI_ou5AdlHn5"
      }
    },
    {
      "cell_type": "code",
      "source": [
        "# Normal Prompting (Failure Case)\n",
        "normal_prompt = \"\"\"\n",
        "Calculate: A store sells pens for $2 each and notebooks for $5 each.\n",
        "If a customer buys 3 pens and 4 notebooks, how much do they spend in total?\n",
        "\"\"\"\n",
        "print(\"Normal Prompting Response:\")\n",
        "print(query_gpt(normal_prompt))"
      ],
      "metadata": {
        "colab": {
          "base_uri": "https://localhost:8080/"
        },
        "id": "_yNNHAMOlBuj",
        "outputId": "15ed90a5-4f0d-425c-e9ff-5fc86e23836e"
      },
      "execution_count": 6,
      "outputs": [
        {
          "output_type": "stream",
          "name": "stdout",
          "text": [
            "Normal Prompting Response:\n",
            "To calculate the total amount spent by the customer, we can break it down into the cost of the pens and the cost of the notebooks.\n",
            "\n",
            "1. **Cost of pens**: \n",
            "   - Price per pen = $2\n",
            "   - Number of pens = 3\n",
            "   - Total cost for pens = 3 pens × $2/pen = $6\n",
            "\n",
            "2. **Cost of notebooks**: \n",
            "   - Price per notebook = $5\n",
            "   - Number of notebooks = 4\n",
            "   - Total cost for notebooks = 4 notebooks × $5/notebook = $20\n",
            "\n",
            "3. **Total cost**: \n",
            "   - Total cost = Total cost for pens + Total cost for notebooks\n",
            "   - Total cost = $6 + $20 = $26\n",
            "\n",
            "Therefore, the customer spends a total of **$26**.\n"
          ]
        }
      ]
    },
    {
      "cell_type": "code",
      "source": [
        "# In-Context Learning (ICL) Solution\n",
        "icl_prompt = \"\"\"\n",
        "Here are examples of similar problems:\n",
        "1. A bakery sells muffins for $3 each and cookies for $2 each. If a customer buys 5 muffins and 3 cookies, how much do they spend in total? (Answer: $21)\n",
        "2. A bookstore sells fiction books for $10 each and non-fiction books for $12 each. If a customer buys 2 fiction and 3 non-fiction books, how much do they spend? (Answer: $56)\n",
        "\n",
        "Now solve this:\n",
        "A store sells pens for $2 each and notebooks for $5 each. If a customer buys 3 pens and 4 notebooks, how much do they spend in total?\n",
        "\"\"\"\n",
        "print(\"\\nIn-Context Learning (ICL) Response:\")\n",
        "print(query_gpt(icl_prompt))"
      ],
      "metadata": {
        "colab": {
          "base_uri": "https://localhost:8080/"
        },
        "id": "y0aNGfhnnWHV",
        "outputId": "57ce77a7-ce51-4cf9-8c52-b79399453369"
      },
      "execution_count": 7,
      "outputs": [
        {
          "output_type": "stream",
          "name": "stdout",
          "text": [
            "\n",
            "In-Context Learning (ICL) Response:\n",
            "To find the total amount spent by the customer, we can calculate the cost of the pens and the notebooks separately and then add them together.\n",
            "\n",
            "1. Cost of pens:\n",
            "   - Price per pen = $2\n",
            "   - Number of pens = 3\n",
            "   - Total cost for pens = 3 pens × $2/pen = $6\n",
            "\n",
            "2. Cost of notebooks:\n",
            "   - Price per notebook = $5\n",
            "   - Number of notebooks = 4\n",
            "   - Total cost for notebooks = 4 notebooks × $5/notebook = $20\n",
            "\n",
            "Now, we add the total costs together:\n",
            "Total cost = Total cost for pens + Total cost for notebooks\n",
            "Total cost = $6 + $20 = $26\n",
            "\n",
            "Therefore, the customer spends a total of $26.\n"
          ]
        }
      ]
    },
    {
      "cell_type": "markdown",
      "source": [
        "The Failure case didn't actually fail but it might in complex and tougher situations."
      ],
      "metadata": {
        "id": "g44jREv7nd-I"
      }
    },
    {
      "cell_type": "markdown",
      "source": [
        "### COT"
      ],
      "metadata": {
        "id": "Z_moqQMAn0LD"
      }
    },
    {
      "cell_type": "code",
      "source": [
        "# Normal Prompting (Failure Case)\n",
        "normal_prompt = \"\"\"\n",
        "A farmer has 10 chickens. Each chicken lays 3 eggs per day.\n",
        "How many eggs will the farmer collect in a week?\n",
        "\"\"\"\n",
        "print(\"Normal Prompting Response:\")\n",
        "print(query_gpt(normal_prompt))"
      ],
      "metadata": {
        "colab": {
          "base_uri": "https://localhost:8080/"
        },
        "id": "r7mhrkZfnnih",
        "outputId": "b02cfad6-05d5-4195-fb09-df98dab2b5a7"
      },
      "execution_count": 8,
      "outputs": [
        {
          "output_type": "stream",
          "name": "stdout",
          "text": [
            "Normal Prompting Response:\n",
            "To find out how many eggs the farmer will collect in a week, we can follow these steps:\n",
            "\n",
            "1. Calculate the total number of eggs laid by one chicken in a day:\n",
            "   \\[\n",
            "   3 \\text{ eggs/chicken/day}\n",
            "   \\]\n",
            "\n",
            "2. Calculate the total number of eggs laid by all 10 chickens in a day:\n",
            "   \\[\n",
            "   10 \\text{ chickens} \\times 3 \\text{ eggs/chicken} = 30 \\text{ eggs/day}\n",
            "   \\]\n",
            "\n",
            "3. Calculate the total number of eggs laid by all 10 chickens in a week (7 days):\n",
            "   \\[\n",
            "   30 \\text{ eggs/day} \\times 7 \\text{ days} = 210 \\text{ eggs/week}\n",
            "   \\]\n",
            "\n",
            "Therefore, the farmer will collect **210 eggs** in a week.\n"
          ]
        }
      ]
    },
    {
      "cell_type": "code",
      "source": [
        "# Chain of Thought (CoT) Solution\n",
        "cot_prompt = \"\"\"\n",
        "Solve this problem step by step:\n",
        "A farmer has 10 chickens. Each chicken lays 3 eggs per day.\n",
        "How many eggs will the farmer collect in a week?\n",
        "\n",
        "Think through the problem step by step before giving the final answer.\n",
        "\"\"\"\n",
        "print(\"\\nChain of Thought (CoT) Response:\")\n",
        "print(query_gpt(cot_prompt))"
      ],
      "metadata": {
        "colab": {
          "base_uri": "https://localhost:8080/"
        },
        "id": "tlExCv-4nnl-",
        "outputId": "782f0e25-4a86-42a2-e345-0ebf6572c226"
      },
      "execution_count": 9,
      "outputs": [
        {
          "output_type": "stream",
          "name": "stdout",
          "text": [
            "\n",
            "Chain of Thought (CoT) Response:\n",
            "To solve the problem step by step, let's break it down:\n",
            "\n",
            "1. **Determine the number of eggs laid by one chicken in a day**:\n",
            "   Each chicken lays 3 eggs per day.\n",
            "\n",
            "2. **Calculate the total number of eggs laid by all chickens in one day**:\n",
            "   The farmer has 10 chickens. Therefore, the total number of eggs laid by all chickens in one day is:\n",
            "   \\[\n",
            "   \\text{Total eggs per day} = \\text{Number of chickens} \\times \\text{Eggs per chicken per day} = 10 \\times 3 = 30 \\text{ eggs}\n",
            "   \\]\n",
            "\n",
            "3. **Calculate the total number of eggs laid in a week**:\n",
            "   There are 7 days in a week. To find the total number of eggs laid in a week, we multiply the total number of eggs laid in one day by the number of days in a week:\n",
            "   \\[\n",
            "   \\text{Total eggs in a week} = \\text{Total eggs per day} \\times \\text{Number of days in a week} = 30 \\times 7 = 210 \\text{ eggs}\n",
            "   \\]\n",
            "\n",
            "4. **Final answer**:\n",
            "   The farmer will collect a total of **210 eggs** in a week.\n",
            "\n",
            "Thus, the final answer is **210 eggs**.\n"
          ]
        }
      ]
    },
    {
      "cell_type": "markdown",
      "source": [
        "Again the failure case didn't fail, 4o-mini is indeed really good."
      ],
      "metadata": {
        "id": "iLXQZYi4oAft"
      }
    },
    {
      "cell_type": "markdown",
      "source": [
        "### iCOT"
      ],
      "metadata": {
        "id": "RaVIqVKEoIfx"
      }
    },
    {
      "cell_type": "code",
      "source": [
        "# Normal Prompting (Failure Case)\n",
        "normal_prompt = \"\"\"\n",
        "Two trains are traveling toward each other on the same track.\n",
        "Train A is moving at 60 km/h, and Train B at 90 km/h.\n",
        "The trains are 300 km apart. How long will it take for the trains to collide?\n",
        "\"\"\"\n",
        "print(\"Normal Prompting Response:\")\n",
        "print(query_gpt(normal_prompt))"
      ],
      "metadata": {
        "colab": {
          "base_uri": "https://localhost:8080/"
        },
        "id": "oGOqlNMwoh-Q",
        "outputId": "68615f5b-163d-4070-d4d6-b65978a5b4f4"
      },
      "execution_count": 10,
      "outputs": [
        {
          "output_type": "stream",
          "name": "stdout",
          "text": [
            "Normal Prompting Response:\n",
            "To find out how long it will take for the two trains to collide, we can first determine their combined speed. \n",
            "\n",
            "Train A is moving at 60 km/h, and Train B is moving at 90 km/h. Therefore, their combined speed is:\n",
            "\n",
            "\\[\n",
            "\\text{Combined speed} = 60 \\text{ km/h} + 90 \\text{ km/h} = 150 \\text{ km/h}\n",
            "\\]\n",
            "\n",
            "Next, we need to find out how long it will take for them to cover the distance of 300 km at this combined speed. We can use the formula:\n",
            "\n",
            "\\[\n",
            "\\text{Time} = \\frac{\\text{Distance}}{\\text{Speed}}\n",
            "\\]\n",
            "\n",
            "Substituting the values we have:\n",
            "\n",
            "\\[\n",
            "\\text{Time} = \\frac{300 \\text{ km}}{150 \\text{ km/h}} = 2 \\text{ hours}\n",
            "\\]\n",
            "\n",
            "Thus, it will take 2 hours for the trains to collide.\n"
          ]
        }
      ]
    },
    {
      "cell_type": "code",
      "source": [
        "# Iterative Chain of Thought (iCoT) Solution\n",
        "icot_prompt_step_1 = \"\"\"\n",
        "Step 1: Calculate the combined speed of Train A and Train B.\n",
        "Train A is moving at 60 km/h, and Train B at 90 km/h.\n",
        "What is their combined speed?\n",
        "\"\"\"\n",
        "combined_speed = query_gpt(icot_prompt_step_1)\n",
        "print(\"\\nIterative CoT Step 1 Response:\")\n",
        "print(combined_speed)\n",
        "\n",
        "icot_prompt_step_2 = f\"\"\"\n",
        "Step 2: The trains are 300 km apart. With a combined speed of {combined_speed.strip()} km/h,\n",
        "calculate how long it will take for the trains to collide.\n",
        "\"\"\"\n",
        "collision_time = query_gpt(icot_prompt_step_2)\n",
        "print(\"\\nIterative CoT Step 2 Response:\")\n",
        "print(collision_time)\n",
        "\n",
        "# Iterative CoT Final Answer\n",
        "print(\"\\nIterative CoT Final Response:\")\n",
        "print(f\"Combined Speed: {combined_speed.strip()}, Time to Collide: {collision_time.strip()}\")"
      ],
      "metadata": {
        "colab": {
          "base_uri": "https://localhost:8080/"
        },
        "id": "W88_amM8oiB6",
        "outputId": "881372fb-d00e-436d-d7b1-72d78f12c275"
      },
      "execution_count": 11,
      "outputs": [
        {
          "output_type": "stream",
          "name": "stdout",
          "text": [
            "\n",
            "Iterative CoT Step 1 Response:\n",
            "To find the combined speed of Train A and Train B, you simply add their speeds together.\n",
            "\n",
            "Train A speed = 60 km/h  \n",
            "Train B speed = 90 km/h  \n",
            "\n",
            "Combined speed = Train A speed + Train B speed  \n",
            "Combined speed = 60 km/h + 90 km/h = 150 km/h  \n",
            "\n",
            "So, the combined speed of Train A and Train B is 150 km/h.\n",
            "\n",
            "Iterative CoT Step 2 Response:\n",
            "To find out how long it will take for the trains to collide, you can use the formula:\n",
            "\n",
            "\\[\n",
            "\\text{Time} = \\frac{\\text{Distance}}{\\text{Combined Speed}}\n",
            "\\]\n",
            "\n",
            "Given that the distance between the trains is 300 km and the combined speed is 150 km/h, you can substitute these values into the formula:\n",
            "\n",
            "\\[\n",
            "\\text{Time} = \\frac{300 \\text{ km}}{150 \\text{ km/h}} = 2 \\text{ hours}\n",
            "\\]\n",
            "\n",
            "Therefore, it will take 2 hours for the trains to collide.\n",
            "\n",
            "Iterative CoT Final Response:\n",
            "Combined Speed: To find the combined speed of Train A and Train B, you simply add their speeds together.\n",
            "\n",
            "Train A speed = 60 km/h  \n",
            "Train B speed = 90 km/h  \n",
            "\n",
            "Combined speed = Train A speed + Train B speed  \n",
            "Combined speed = 60 km/h + 90 km/h = 150 km/h  \n",
            "\n",
            "So, the combined speed of Train A and Train B is 150 km/h., Time to Collide: To find out how long it will take for the trains to collide, you can use the formula:\n",
            "\n",
            "\\[\n",
            "\\text{Time} = \\frac{\\text{Distance}}{\\text{Combined Speed}}\n",
            "\\]\n",
            "\n",
            "Given that the distance between the trains is 300 km and the combined speed is 150 km/h, you can substitute these values into the formula:\n",
            "\n",
            "\\[\n",
            "\\text{Time} = \\frac{300 \\text{ km}}{150 \\text{ km/h}} = 2 \\text{ hours}\n",
            "\\]\n",
            "\n",
            "Therefore, it will take 2 hours for the trains to collide.\n"
          ]
        }
      ]
    },
    {
      "cell_type": "markdown",
      "source": [
        "### ToT"
      ],
      "metadata": {
        "id": "ir7jM-sDpKmI"
      }
    },
    {
      "cell_type": "code",
      "source": [
        "# Normal Prompting (Failure Case)\n",
        "normal_prompt = \"\"\"\n",
        "There are three doors: behind one door is a treasure, and behind the other two are traps.\n",
        "You are allowed to choose one door, and then you are given a clue that eliminates one trap door.\n",
        "Should you switch your choice to the other remaining door or stick with your original choice?\n",
        "\"\"\"\n",
        "print(\"Normal Prompting Response:\")\n",
        "print(query_gpt(normal_prompt))"
      ],
      "metadata": {
        "colab": {
          "base_uri": "https://localhost:8080/"
        },
        "id": "vQo-BV44rZ4F",
        "outputId": "5c4a4e10-6b79-487d-e193-795a16bbf17d"
      },
      "execution_count": 12,
      "outputs": [
        {
          "output_type": "stream",
          "name": "stdout",
          "text": [
            "Normal Prompting Response:\n",
            "This scenario is a variation of the Monty Hall problem. The best strategy is to switch your choice after one trap door is revealed. \n",
            "\n",
            "Here's why:\n",
            "\n",
            "1. When you first choose a door, there is a 1/3 chance that you picked the door with the treasure and a 2/3 chance that the treasure is behind one of the other two doors.\n",
            "2. After you make your initial choice, the host (who knows where the treasure is) will always reveal a trap door from the remaining two doors.\n",
            "3. If you stick with your original choice, your probability of winning the treasure remains 1/3.\n",
            "4. If you switch to the other remaining door, your probability of winning the treasure increases to 2/3.\n",
            "\n",
            "Therefore, you should always switch your choice to maximize your chances of winning the treasure.\n"
          ]
        }
      ]
    },
    {
      "cell_type": "code",
      "source": [
        "# Tree of Thoughts (ToT) Solution\n",
        "tot_prompt = \"\"\"\n",
        "Problem: There are three doors: behind one door is a treasure, and behind the other two are traps.\n",
        "You are allowed to choose one door, and then you are given a clue that eliminates one trap door.\n",
        "Should you switch your choice to the other remaining door or stick with your original choice?\n",
        "\n",
        "Use a \"Tree of Thoughts\" approach to reason step-by-step:\n",
        "1. List the possible scenarios if you stick with your original choice.\n",
        "2. List the possible scenarios if you switch to the other door.\n",
        "3. Compare the probabilities for both choices.\n",
        "4. Decide which strategy gives you the highest chance of winning.\n",
        "\"\"\"\n",
        "print(\"\\nTree of Thoughts (ToT) Response:\")\n",
        "print(query_gpt(tot_prompt))"
      ],
      "metadata": {
        "colab": {
          "base_uri": "https://localhost:8080/"
        },
        "id": "EjZPiNdzrZ7z",
        "outputId": "3e861d4b-4a07-4f3b-ce13-bd1054b7fc2f"
      },
      "execution_count": 13,
      "outputs": [
        {
          "output_type": "stream",
          "name": "stdout",
          "text": [
            "\n",
            "Tree of Thoughts (ToT) Response:\n",
            "To solve the problem using a \"Tree of Thoughts\" approach, we will analyze the situation step-by-step.\n",
            "\n",
            "### Step 1: List the Possible Scenarios if You Stick with Your Original Choice\n",
            "\n",
            "1. **Choose Door A**:\n",
            "   - Treasure is behind Door A (1/3 chance).\n",
            "   - Clue eliminates one of the other doors (B or C), which are both traps.\n",
            "   - You win if you stick with Door A.\n",
            "\n",
            "2. **Choose Door B**:\n",
            "   - Treasure is behind Door B (1/3 chance).\n",
            "   - Clue eliminates Door C (trap).\n",
            "   - You lose if you stick with Door B.\n",
            "\n",
            "3. **Choose Door C**:\n",
            "   - Treasure is behind Door C (1/3 chance).\n",
            "   - Clue eliminates Door B (trap).\n",
            "   - You lose if you stick with Door C.\n",
            "\n",
            "**Summary of sticking with your choice**:\n",
            "- If you stick with your original choice, you win if you initially chose the door with the treasure (1/3 chance) and lose if you chose a trap (2/3 chance).\n",
            "\n",
            "### Step 2: List the Possible Scenarios if You Switch to the Other Door\n",
            "\n",
            "1. **Choose Door A**:\n",
            "   - Treasure is behind Door A (1/3 chance).\n",
            "   - Clue eliminates one of the other doors (B or C, both traps).\n",
            "   - If you switch, you go to the remaining door (which is a trap), so you lose.\n",
            "\n",
            "2. **Choose Door B**:\n",
            "   - Treasure is behind Door B (1/3 chance).\n",
            "   - Clue eliminates Door C (trap).\n",
            "   - If you switch, you go to Door A (which is a trap), so you lose.\n",
            "\n",
            "3. **Choose Door C**:\n",
            "   - Treasure is behind Door C (1/3 chance).\n",
            "   - Clue eliminates Door B (trap).\n",
            "   - If you switch, you go to Door A (which is a trap), so you lose.\n",
            "\n",
            "**Summary of switching your choice**:\n",
            "- If you switch, you win if you initially chose Door B or Door C (2/3 chance) and lose if you chose Door A (1/3 chance).\n",
            "\n",
            "### Step 3: Compare the Probabilities for Both Choices\n",
            "\n",
            "- **Sticking with your original choice**:\n",
            "  - Probability of winning = 1/3 (only if you initially chose the treasure door).\n",
            "\n",
            "- **Switching to the other door**:\n",
            "  - Probability of winning = 2/3 (if you initially chose a trap door, which is more likely).\n",
            "\n",
            "### Step 4: Decide Which Strategy Gives You the Highest Chance of Winning\n",
            "\n",
            "From the analysis:\n",
            "- Sticking with your original choice gives you a 1/3 chance of winning.\n",
            "- Switching to the other door gives you a 2/3 chance of winning.\n",
            "\n",
            "### Conclusion\n",
            "\n",
            "The strategy that gives you the highest chance of winning is to **switch your choice to the other remaining door** after the clue eliminates one of the trap doors. This approach maximizes your probability of winning the treasure.\n"
          ]
        }
      ]
    },
    {
      "cell_type": "markdown",
      "source": [
        "### FoT"
      ],
      "metadata": {
        "id": "msnm0P9GryE_"
      }
    },
    {
      "cell_type": "code",
      "source": [
        "# Normal Prompting (Failure Case)\n",
        "normal_prompt = \"\"\"\n",
        "How can we reduce traffic congestion in urban areas?\n",
        "\"\"\"\n",
        "print(\"Normal Prompting Response:\")\n",
        "print(query_gpt(normal_prompt))"
      ],
      "metadata": {
        "colab": {
          "base_uri": "https://localhost:8080/"
        },
        "id": "EClC9QkZr-9P",
        "outputId": "5f75d958-95ca-4b87-c3b5-a0ea6b7c8f46"
      },
      "execution_count": 14,
      "outputs": [
        {
          "output_type": "stream",
          "name": "stdout",
          "text": [
            "Normal Prompting Response:\n",
            "Reducing traffic congestion in urban areas requires a multifaceted approach that addresses various aspects of transportation, urban planning, and public policy. Here are several strategies that can be implemented:\n",
            "\n",
            "1. **Public Transportation Improvements**:\n",
            "   - **Expand and Enhance Public Transit**: Invest in reliable, efficient, and affordable public transportation options such as buses, subways, and trams.\n",
            "   - **Increase Frequency and Coverage**: Ensure that public transit services are frequent and cover a wide area to make them more accessible.\n",
            "\n",
            "2. **Encourage Active Transportation**:\n",
            "   - **Develop Bicycle Infrastructure**: Create dedicated bike lanes, bike-sharing programs, and secure bike parking to encourage cycling.\n",
            "   - **Promote Walking**: Improve pedestrian infrastructure, such as sidewalks, crosswalks, and pedestrian-only zones, to make walking safer and more appealing.\n",
            "\n",
            "3. **Implement Traffic Management Technologies**:\n",
            "   - **Smart Traffic Signals**: Use adaptive traffic signal systems that adjust in real-time based on traffic flow.\n",
            "   - **Real-Time Traffic Information**: Provide real-time updates on traffic conditions through apps and signage to help drivers make informed decisions.\n",
            "\n",
            "4. **Carpooling and Ridesharing**:\n",
            "   - **Encourage Carpooling**: Create incentives for carpooling, such as dedicated carpool lanes and reduced tolls.\n",
            "   - **Promote Ridesharing Services**: Support ridesharing platforms that connect drivers with passengers to reduce the number of vehicles on the road.\n",
            "\n",
            "5. **Congestion Pricing**:\n",
            "   - **Implement Congestion Charges**: Charge drivers a fee to enter high-traffic areas during peak hours to discourage unnecessary trips and promote alternative transportation.\n",
            "\n",
            "6. **Urban Planning and Zoning**:\n",
            "   - **Mixed-Use Development**: Encourage mixed-use developments that combine residential, commercial, and recreational spaces to reduce the need for long commutes.\n",
            "   - **Transit-Oriented Development**: Focus on developing areas around transit hubs to promote the use of public transportation.\n",
            "\n",
            "7. **Flexible Work Arrangements**:\n",
            "   - **Promote Remote Work**: Encourage businesses to adopt remote work policies to reduce the number of commuters during peak hours.\n",
            "   - **Staggered Work Hours**: Implement flexible work hours to spread out traffic throughout the day.\n",
            "\n",
            "8. **Education and Awareness Campaigns**:\n",
            "   - **Public Awareness Campaigns**: Educate the public about the benefits of using public transportation, carpooling, and other alternatives to driving alone.\n",
            "   - **Incentives for Sustainable Choices**: Provide incentives for individuals and businesses that adopt sustainable transportation practices.\n",
            "\n",
            "9. **Parking Management**:\n",
            "   - **Optimize Parking Availability**: Use technology to manage parking spaces effectively, including dynamic pricing for parking based on demand.\n",
            "   - **Reduce Parking Supply**: Limit the number of parking spaces in congested areas to encourage the use of public transportation.\n",
            "\n",
            "10. **Invest in Infrastructure**:\n",
            "    - **Upgrade Roads and Highways**: Improve existing road infrastructure to accommodate current traffic demands and reduce bottlenecks.\n",
            "    - **Build New Infrastructure**: Construct new roads, bridges, and transit lines where necessary to alleviate congestion.\n",
            "\n",
            "By combining these strategies, urban areas can create a more efficient transportation system that reduces congestion, improves air quality, and enhances the overall quality of life for residents.\n"
          ]
        }
      ]
    },
    {
      "cell_type": "code",
      "source": [
        "# Forest of Thoughts (FoT) Solution\n",
        "fot_prompt = \"\"\"\n",
        "Problem: How can we reduce traffic congestion in urban areas?\n",
        "\n",
        "Use a \"Forest of Thoughts\" approach:\n",
        "1. Generate multiple high-level strategies (thought trees), e.g., public transport improvement, urban planning, and technology adoption.\n",
        "2. For each strategy, branch out into specific ideas or steps.\n",
        "3. Consolidate the most feasible and impactful ideas into a final list.\n",
        "\n",
        "Generate a detailed Forest of Thoughts response.\n",
        "\"\"\"\n",
        "print(\"\\nForest of Thoughts (FoT) Response:\")\n",
        "print(query_gpt(fot_prompt))"
      ],
      "metadata": {
        "colab": {
          "base_uri": "https://localhost:8080/"
        },
        "id": "EnXzG8GQr_Ak",
        "outputId": "786e3073-18e2-441c-9b74-a240d0d837fa"
      },
      "execution_count": 15,
      "outputs": [
        {
          "output_type": "stream",
          "name": "stdout",
          "text": [
            "\n",
            "Forest of Thoughts (FoT) Response:\n",
            "### Forest of Thoughts: Reducing Traffic Congestion in Urban Areas\n",
            "\n",
            "#### 1. High-Level Strategy: Public Transport Improvement\n",
            "   - **Sub-Strategy: Expand Public Transport Networks**\n",
            "     - Increase the number of bus routes and frequency of service.\n",
            "     - Introduce light rail or tram systems in high-density areas.\n",
            "     - Develop express bus lanes to reduce travel time.\n",
            "   - **Sub-Strategy: Enhance User Experience**\n",
            "     - Implement real-time tracking apps for buses and trains.\n",
            "     - Improve cleanliness and safety at stations and stops.\n",
            "     - Offer integrated ticketing systems for seamless transfers between different modes of transport.\n",
            "   - **Sub-Strategy: Subsidize Public Transport**\n",
            "     - Provide discounts for low-income individuals and students.\n",
            "     - Introduce free public transport days to encourage usage.\n",
            "     - Partner with employers to offer subsidized transit passes.\n",
            "\n",
            "#### 2. High-Level Strategy: Urban Planning\n",
            "   - **Sub-Strategy: Mixed-Use Development**\n",
            "     - Encourage residential, commercial, and recreational spaces to coexist.\n",
            "     - Promote walkable neighborhoods to reduce reliance on cars.\n",
            "   - **Sub-Strategy: Zoning Reforms**\n",
            "     - Implement policies that favor higher density in urban centers.\n",
            "     - Reduce parking requirements for new developments to discourage car use.\n",
            "   - **Sub-Strategy: Green Spaces and Pedestrian Areas**\n",
            "     - Create more parks and pedestrian-only zones to enhance walkability.\n",
            "     - Develop bike lanes and paths to encourage cycling.\n",
            "\n",
            "#### 3. High-Level Strategy: Technology Adoption\n",
            "   - **Sub-Strategy: Smart Traffic Management Systems**\n",
            "     - Implement adaptive traffic signals that respond to real-time traffic conditions.\n",
            "     - Use AI and data analytics to optimize traffic flow and reduce bottlenecks.\n",
            "   - **Sub-Strategy: Promote Ridesharing and Carpooling**\n",
            "     - Develop apps that facilitate carpooling and ridesharing.\n",
            "     - Create dedicated lanes for carpool vehicles to incentivize shared rides.\n",
            "   - **Sub-Strategy: Encourage Remote Work and Flexible Hours**\n",
            "     - Partner with businesses to promote telecommuting options.\n",
            "     - Encourage staggered work hours to reduce peak traffic loads.\n",
            "\n",
            "#### 4. High-Level Strategy: Behavioral Change Initiatives\n",
            "   - **Sub-Strategy: Awareness Campaigns**\n",
            "     - Launch campaigns to educate the public on the benefits of public transport and carpooling.\n",
            "     - Promote the environmental and economic benefits of reduced car usage.\n",
            "   - **Sub-Strategy: Incentives for Alternative Transportation**\n",
            "     - Offer tax breaks or subsidies for individuals who use public transport or bike to work.\n",
            "     - Implement reward programs for businesses that encourage employees to use alternative transportation.\n",
            "\n",
            "### Consolidated List of Feasible and Impactful Ideas\n",
            "1. **Expand Public Transport Networks**: Increase bus routes and introduce light rail systems.\n",
            "2. **Enhance User Experience**: Implement real-time tracking and integrated ticketing.\n",
            "3. **Mixed-Use Development**: Promote residential and commercial spaces in close proximity.\n",
            "4. **Smart Traffic Management Systems**: Use adaptive signals and AI for traffic optimization.\n",
            "5. **Promote Ridesharing and Carpooling**: Develop apps and dedicated lanes for shared rides.\n",
            "6. **Awareness Campaigns**: Educate the public on the benefits of alternative transportation.\n",
            "7. **Incentives for Alternative Transportation**: Offer tax breaks for public transport users and businesses promoting alternative commuting.\n",
            "\n",
            "### Conclusion\n",
            "By implementing a combination of these strategies, urban areas can significantly reduce traffic congestion, improve air quality, and enhance the overall quality of life for residents. Each strategy and its associated ideas can be tailored to fit the specific needs and characteristics of different urban environments, ensuring a more sustainable and efficient transportation system.\n"
          ]
        }
      ]
    },
    {
      "cell_type": "markdown",
      "source": [
        "ReAct - Reasoning and Acting"
      ],
      "metadata": {
        "id": "mkFwQBAAv7-8"
      }
    },
    {
      "cell_type": "code",
      "source": [
        "# Normal Prompting (Failure Case)\n",
        "normal_prompt = \"\"\"\n",
        "What is the population of the largest city in the world, and what are some challenges it faces due to its size?\n",
        "\"\"\"\n",
        "print(\"Normal Prompting Response:\")\n",
        "print(query_gpt(normal_prompt))"
      ],
      "metadata": {
        "colab": {
          "base_uri": "https://localhost:8080/"
        },
        "id": "--iDp8yKv6tK",
        "outputId": "3e66d641-34b7-4fab-f980-dd37e953f86f"
      },
      "execution_count": 16,
      "outputs": [
        {
          "output_type": "stream",
          "name": "stdout",
          "text": [
            "Normal Prompting Response:\n",
            "As of my last update, the largest city in the world by population is Tokyo, Japan, with a metropolitan area population of approximately 37 million people. However, population figures can vary based on the criteria used (city proper, metropolitan area, urban area) and can change over time.\n",
            "\n",
            "Tokyo faces several challenges due to its size, including:\n",
            "\n",
            "1. **Overcrowding**: The high population density can lead to crowded public transportation systems, making commuting difficult and uncomfortable.\n",
            "\n",
            "2. **Housing**: The demand for housing in such a populous area drives up real estate prices, leading to issues with affordability and availability of adequate living spaces.\n",
            "\n",
            "3. **Infrastructure Strain**: The sheer number of residents puts pressure on infrastructure, including roads, public transport, and utilities, which can lead to congestion and service disruptions.\n",
            "\n",
            "4. **Environmental Concerns**: Large urban populations contribute to pollution, waste management issues, and increased energy consumption, which can have significant environmental impacts.\n",
            "\n",
            "5. **Public Health**: High population density can facilitate the rapid spread of diseases and complicate public health responses.\n",
            "\n",
            "6. **Social Inequality**: Economic disparities can be exacerbated in large cities, leading to issues such as homelessness and access to services.\n",
            "\n",
            "7. **Natural Disasters**: Tokyo is located in a seismically active region, making it vulnerable to earthquakes and tsunamis, which pose significant risks to its large population.\n",
            "\n",
            "These challenges require careful urban planning and management to ensure sustainable living conditions for its residents.\n"
          ]
        }
      ]
    },
    {
      "cell_type": "code",
      "source": [
        "# Reasoning + Acting (ReAct) Solution\n",
        "react_prompt = \"\"\"\n",
        "Problem: What is the population of the largest city in the world, and what are some challenges it faces due to its size?\n",
        "\n",
        "Use the ReAct pattern to solve this problem:\n",
        "1. Reason through how to identify the largest city.\n",
        "2. Act by retrieving the population of the largest city (assume access to a knowledge base or external resource).\n",
        "3. Combine reasoning and external knowledge to list challenges faced by the city.\n",
        "4. Provide a final answer combining all information.\n",
        "\n",
        "Simulate the reasoning and acting steps in your response.\n",
        "\"\"\"\n",
        "print(\"\\nReasoning + Acting (ReAct) Response:\")\n",
        "print(query_gpt(react_prompt))"
      ],
      "metadata": {
        "colab": {
          "base_uri": "https://localhost:8080/"
        },
        "id": "sXNQDyc4w1PO",
        "outputId": "3c3ee72f-45ab-4659-a8b6-fbe1fe5893ec"
      },
      "execution_count": 17,
      "outputs": [
        {
          "output_type": "stream",
          "name": "stdout",
          "text": [
            "\n",
            "Reasoning + Acting (ReAct) Response:\n",
            "1. **Reasoning**: To identify the largest city in the world, we need to consider how \"largest\" is defined. It could refer to the city with the highest population within its administrative boundaries or the largest metropolitan area. For this exercise, I will focus on the city proper population, which is often cited in various reports. As of my last knowledge update, Tokyo, Japan, is frequently recognized as the largest city in the world by population.\n",
            "\n",
            "2. **Act**: Based on the most recent data available, Tokyo's population is approximately 14 million people within the city proper. However, if we consider the Greater Tokyo Area, the population can exceed 37 million, making it the most populous metropolitan area in the world.\n",
            "\n",
            "3. **Challenges**: The size of Tokyo presents several challenges:\n",
            "   - **Overcrowding**: High population density leads to crowded public transportation and housing shortages.\n",
            "   - **Infrastructure Strain**: The city's infrastructure, including roads, public transport, and utilities, is under constant pressure to accommodate the large population.\n",
            "   - **Environmental Issues**: Urbanization contributes to pollution, waste management problems, and heat island effects.\n",
            "   - **Natural Disasters**: Being located in a seismically active region, Tokyo faces risks from earthquakes and tsunamis, necessitating robust disaster preparedness and response systems.\n",
            "   - **Aging Population**: Japan has one of the highest life expectancies, leading to a growing elderly population that requires more healthcare and social services.\n",
            "\n",
            "4. **Final Answer**: The largest city in the world by population is Tokyo, Japan, with approximately 14 million residents in the city proper and over 37 million in the Greater Tokyo Area. The city faces significant challenges due to its size, including overcrowding, infrastructure strain, environmental issues, risks from natural disasters, and an aging population.\n"
          ]
        }
      ]
    },
    {
      "cell_type": "markdown",
      "source": [
        "### RASCEF\n",
        "\n",
        "Reasoning: Logical thought process.\n",
        "\n",
        "Assumptions: Key assumptions being made.\n",
        "\n",
        "Stakeholders: Identify affected parties.\n",
        "\n",
        "Context: Broader environment.\n",
        "\n",
        "Evidence: Supporting data or examples.\n",
        "\n",
        "Final Answer: Conclusion."
      ],
      "metadata": {
        "id": "b-oxsu33w4I3"
      }
    },
    {
      "cell_type": "code",
      "source": [
        "# Normal Prompting (Failure Case)\n",
        "normal_prompt = \"\"\"\n",
        "Should a company invest in electric vehicle charging stations? Justify your answer.\n",
        "\"\"\"\n",
        "print(\"Normal Prompting Response:\")\n",
        "print(query_gpt(normal_prompt))"
      ],
      "metadata": {
        "colab": {
          "base_uri": "https://localhost:8080/"
        },
        "id": "AEpxTUzUw4tQ",
        "outputId": "1569f9ec-2407-4479-c956-2b7d585e8838"
      },
      "execution_count": 18,
      "outputs": [
        {
          "output_type": "stream",
          "name": "stdout",
          "text": [
            "Normal Prompting Response:\n",
            "Investing in electric vehicle (EV) charging stations can be a strategic decision for a company, and several factors justify this investment:\n",
            "\n",
            "1. **Growing Demand for EVs**: The global shift towards electric vehicles is accelerating due to environmental concerns, government incentives, and advancements in technology. As more consumers adopt EVs, the demand for charging infrastructure will increase, making it a timely investment.\n",
            "\n",
            "2. **Sustainability Goals**: Many companies are setting sustainability targets to reduce their carbon footprints. Investing in EV charging stations aligns with these goals, demonstrating a commitment to environmental responsibility and potentially enhancing the company's brand image.\n",
            "\n",
            "3. **Revenue Generation**: Charging stations can provide a new revenue stream. Companies can charge users for electricity, offer subscription models, or partner with businesses to provide charging services. This can be particularly lucrative in high-traffic areas or near popular destinations.\n",
            "\n",
            "4. **Competitive Advantage**: By investing in EV charging infrastructure, a company can differentiate itself from competitors. This can attract environmentally conscious customers and employees, enhancing customer loyalty and employee satisfaction.\n",
            "\n",
            "5. **Government Incentives**: Many governments offer incentives for the installation of EV charging stations, including tax credits, grants, and rebates. These financial incentives can reduce the initial investment cost and improve the return on investment.\n",
            "\n",
            "6. **Future-Proofing**: As regulations around emissions tighten and the automotive industry continues to evolve, investing in EV infrastructure positions a company to adapt to future market changes. This proactive approach can mitigate risks associated with regulatory compliance and market shifts.\n",
            "\n",
            "7. **Partnership Opportunities**: Companies can collaborate with automakers, energy providers, and local governments to create a robust charging network. These partnerships can enhance visibility and credibility while sharing the investment burden.\n",
            "\n",
            "8. **Employee Benefits**: Providing charging stations at the workplace can be a valuable perk for employees who drive EVs, improving job satisfaction and potentially attracting talent who prioritize sustainability.\n",
            "\n",
            "9. **Community Engagement**: By investing in charging stations, companies can engage with their communities, supporting local initiatives and contributing to the development of sustainable infrastructure.\n",
            "\n",
            "In conclusion, investing in electric vehicle charging stations can be a forward-thinking strategy that aligns with market trends, enhances brand reputation, generates revenue, and supports sustainability goals. However, companies should conduct thorough market research and feasibility studies to ensure that the investment aligns with their overall business strategy and local demand.\n"
          ]
        }
      ]
    },
    {
      "cell_type": "code",
      "source": [
        "# RASCEF Solution\n",
        "rascef_prompt = \"\"\"\n",
        "Problem: Should a company invest in electric vehicle charging stations?\n",
        "\n",
        "Use the RASCEF framework to structure your response:\n",
        "1. Reasoning: What is the logical thought process behind the decision?\n",
        "2. Assumptions: What assumptions are we making about the EV market and infrastructure?\n",
        "3. Stakeholders: Who are the stakeholders, and how are they affected?\n",
        "4. Context: What is the broader market, environmental, or regulatory context?\n",
        "5. Evidence: Provide data or examples to support the reasoning.\n",
        "6. Final Answer: Conclude with a recommendation.\n",
        "\n",
        "Simulate the RASCEF framework in your response.\n",
        "\"\"\"\n",
        "print(\"\\nRASCEF Response:\")\n",
        "print(query_gpt(rascef_prompt))"
      ],
      "metadata": {
        "colab": {
          "base_uri": "https://localhost:8080/"
        },
        "id": "f7hntGa0w4w6",
        "outputId": "966c728c-57d2-4b4a-ebbc-9ac23c5a8980"
      },
      "execution_count": 19,
      "outputs": [
        {
          "output_type": "stream",
          "name": "stdout",
          "text": [
            "\n",
            "RASCEF Response:\n",
            "### RASCEF Framework Analysis: Should a Company Invest in Electric Vehicle Charging Stations?\n",
            "\n",
            "#### 1. Reasoning\n",
            "The decision to invest in electric vehicle (EV) charging stations is driven by the increasing demand for EVs, the shift towards sustainable transportation, and the potential for new revenue streams. As more consumers adopt electric vehicles, the need for accessible charging infrastructure will grow. Investing in charging stations can position the company as a leader in the green energy transition, enhance brand reputation, and create partnerships with EV manufacturers and local governments.\n",
            "\n",
            "#### 2. Assumptions\n",
            "Several assumptions underpin this decision:\n",
            "- The EV market will continue to grow, driven by consumer demand and government incentives.\n",
            "- Charging infrastructure will become a critical component of urban planning and transportation networks.\n",
            "- The technology for EVs and charging stations will continue to improve, making them more efficient and user-friendly.\n",
            "- The company has the financial resources and expertise to manage the installation and maintenance of charging stations.\n",
            "\n",
            "#### 3. Stakeholders\n",
            "Key stakeholders include:\n",
            "- **Consumers**: They benefit from increased access to charging stations, making EV ownership more convenient.\n",
            "- **Local Governments**: They may support the initiative as it aligns with sustainability goals and can lead to reduced emissions.\n",
            "- **Investors**: They are interested in the potential return on investment and the company’s commitment to sustainability.\n",
            "- **Employees**: They may find increased job security and opportunities in a growing sector.\n",
            "- **Environmental Groups**: They may view the investment positively as it contributes to reducing carbon footprints.\n",
            "\n",
            "#### 4. Context\n",
            "The broader context includes:\n",
            "- **Market Trends**: The global EV market is projected to grow significantly, with many countries setting ambitious targets for phasing out internal combustion engines.\n",
            "- **Environmental Regulations**: Governments are implementing stricter emissions regulations, incentivizing the adoption of EVs and the development of charging infrastructure.\n",
            "- **Technological Advancements**: Innovations in battery technology and charging solutions are making EVs more appealing to consumers.\n",
            "\n",
            "#### 5. Evidence\n",
            "- According to the International Energy Agency (IEA), global electric car sales reached 6.6 million in 2021, a 108% increase from 2020, and are expected to continue rising.\n",
            "- A report from McKinsey indicates that the number of public charging points needs to increase significantly to meet the projected demand for EVs, suggesting a market opportunity for charging station investments.\n",
            "- Government incentives, such as tax credits and grants for EV infrastructure, are becoming more common, further supporting the business case for investment.\n",
            "\n",
            "#### 6. Final Answer\n",
            "Based on the reasoning, assumptions, stakeholder analysis, contextual factors, and supporting evidence, it is recommended that the company invest in electric vehicle charging stations. This investment aligns with market trends, supports sustainability goals, and positions the company favorably in a rapidly evolving industry. By doing so, the company can capitalize on the growing demand for EV infrastructure, enhance its brand reputation, and contribute positively to environmental efforts.\n"
          ]
        }
      ]
    },
    {
      "cell_type": "markdown",
      "source": [
        "### GOT - Goal Oriented Thought"
      ],
      "metadata": {
        "id": "mLS6KNqayDjo"
      }
    },
    {
      "cell_type": "code",
      "source": [
        "# Normal Prompting (Failure Case)\n",
        "normal_prompt = \"\"\"\n",
        "How should a company plan to launch a new product in an international market?\n",
        "\"\"\"\n",
        "print(\"Normal Prompting Response:\")\n",
        "print(query_gpt(normal_prompt))"
      ],
      "metadata": {
        "colab": {
          "base_uri": "https://localhost:8080/"
        },
        "id": "igrQx8ioybw9",
        "outputId": "c2f60abd-fec0-49c6-fc88-fc7a275bf7a4"
      },
      "execution_count": 20,
      "outputs": [
        {
          "output_type": "stream",
          "name": "stdout",
          "text": [
            "Normal Prompting Response:\n",
            "Launching a new product in an international market requires careful planning and execution. Here are key steps a company should consider:\n",
            "\n",
            "### 1. Market Research\n",
            "- **Identify Target Markets**: Analyze potential markets based on demand, competition, and cultural fit.\n",
            "- **Understand Local Preferences**: Conduct surveys, focus groups, and interviews to understand consumer behavior and preferences.\n",
            "- **Regulatory Environment**: Research local laws, regulations, and standards that may affect product launch.\n",
            "\n",
            "### 2. Competitive Analysis\n",
            "- **Identify Competitors**: Analyze local and international competitors in the target market.\n",
            "- **SWOT Analysis**: Assess strengths, weaknesses, opportunities, and threats related to competitors and the market.\n",
            "\n",
            "### 3. Product Adaptation\n",
            "- **Localization**: Modify the product to meet local tastes, cultural norms, and legal requirements (e.g., language, packaging, features).\n",
            "- **Quality Standards**: Ensure the product meets local quality and safety standards.\n",
            "\n",
            "### 4. Marketing Strategy\n",
            "- **Brand Positioning**: Develop a clear value proposition and brand message tailored to the local market.\n",
            "- **Marketing Channels**: Choose appropriate channels (social media, traditional media, influencers) based on local preferences.\n",
            "- **Promotional Campaigns**: Plan launch events, promotions, and advertising strategies that resonate with the local audience.\n",
            "\n",
            "### 5. Distribution Strategy\n",
            "- **Select Distribution Channels**: Decide between direct sales, partnerships, or local distributors based on market dynamics.\n",
            "- **Logistics Planning**: Establish a reliable supply chain and distribution network to ensure product availability.\n",
            "\n",
            "### 6. Pricing Strategy\n",
            "- **Market Pricing**: Analyze local pricing strategies and consumer willingness to pay.\n",
            "- **Cost Considerations**: Factor in costs related to production, shipping, tariffs, and local taxes.\n",
            "\n",
            "### 7. Legal and Compliance\n",
            "- **Intellectual Property**: Protect trademarks and patents in the new market.\n",
            "- **Compliance**: Ensure compliance with local laws regarding product safety, advertising, and consumer rights.\n",
            "\n",
            "### 8. Launch Plan\n",
            "- **Timeline**: Create a detailed timeline for the launch, including pre-launch, launch, and post-launch activities.\n",
            "- **Team Coordination**: Ensure all departments (marketing, sales, logistics, customer service) are aligned and prepared for the launch.\n",
            "\n",
            "### 9. Monitor and Adapt\n",
            "- **Feedback Mechanism**: Establish channels for customer feedback to gauge product reception.\n",
            "- **Performance Metrics**: Track sales, market share, and customer satisfaction to evaluate success.\n",
            "- **Adapt Strategy**: Be prepared to adjust marketing, distribution, or product features based on market response.\n",
            "\n",
            "### 10. Post-Launch Evaluation\n",
            "- **Review Objectives**: Assess whether the launch met its objectives and identify areas for improvement.\n",
            "- **Long-term Strategy**: Develop a plan for sustaining growth in the new market, including potential product line expansions or enhancements.\n",
            "\n",
            "By following these steps, a company can effectively plan and execute a successful product launch in an international market, minimizing risks and maximizing opportunities for growth.\n"
          ]
        }
      ]
    },
    {
      "cell_type": "code",
      "source": [
        "# GOT Solution\n",
        "got_prompt = \"\"\"\n",
        "Problem: How should a company plan to launch a new product in an international market?\n",
        "\n",
        "Use the GOT (Goal-Oriented Thought) framework:\n",
        "1. Define the primary goal: Successfully launch the product internationally.\n",
        "2. Break it into sub-goals:\n",
        "   a. Conduct market research.\n",
        "   b. Adapt the product for the target market.\n",
        "   c. Create a marketing and sales strategy.\n",
        "   d. Plan logistics and supply chain.\n",
        "   e. Comply with legal and regulatory requirements.\n",
        "3. Address each sub-goal in detail.\n",
        "4. Summarize the plan and recommend actionable next steps.\n",
        "\n",
        "Simulate the GOT framework in your response.\n",
        "\"\"\"\n",
        "print(\"\\nGOT Response:\")\n",
        "print(query_gpt(got_prompt))"
      ],
      "metadata": {
        "colab": {
          "base_uri": "https://localhost:8080/"
        },
        "id": "eiAmZdd7yb73",
        "outputId": "30dd3584-7c29-4a38-b220-c1634c2b93e7"
      },
      "execution_count": 21,
      "outputs": [
        {
          "output_type": "stream",
          "name": "stdout",
          "text": [
            "\n",
            "GOT Response:\n",
            "### Goal-Oriented Thought (GOT) Framework for International Product Launch\n",
            "\n",
            "#### 1. Define the Primary Goal\n",
            "**Goal:** Successfully launch the product internationally.\n",
            "\n",
            "---\n",
            "\n",
            "#### 2. Break it into Sub-Goals\n",
            "\n",
            "**a. Conduct Market Research**\n",
            "   - Identify target markets based on demographics, purchasing power, and cultural preferences.\n",
            "   - Analyze competitors and their market positioning.\n",
            "   - Gather insights on consumer behavior and preferences through surveys, focus groups, and social media analysis.\n",
            "\n",
            "**b. Adapt the Product for the Target Market**\n",
            "   - Modify product features, packaging, and branding to align with local tastes and cultural norms.\n",
            "   - Ensure the product meets local quality standards and consumer expectations.\n",
            "   - Consider language localization for packaging and marketing materials.\n",
            "\n",
            "**c. Create a Marketing and Sales Strategy**\n",
            "   - Develop a comprehensive marketing plan that includes digital marketing, traditional advertising, and public relations.\n",
            "   - Identify key sales channels (e.g., online, retail, distributors) and establish partnerships.\n",
            "   - Set pricing strategies that reflect local market conditions and consumer willingness to pay.\n",
            "\n",
            "**d. Plan Logistics and Supply Chain**\n",
            "   - Determine the most efficient distribution channels for the target market.\n",
            "   - Establish relationships with local suppliers and logistics providers.\n",
            "   - Plan for inventory management, warehousing, and transportation to ensure timely product availability.\n",
            "\n",
            "**e. Comply with Legal and Regulatory Requirements**\n",
            "   - Research and understand local laws regarding product safety, labeling, and advertising.\n",
            "   - Obtain necessary certifications and permits for product entry into the market.\n",
            "   - Ensure compliance with import/export regulations and tariffs.\n",
            "\n",
            "---\n",
            "\n",
            "#### 3. Address Each Sub-Goal in Detail\n",
            "\n",
            "**a. Conduct Market Research**\n",
            "   - Utilize both qualitative and quantitative research methods to gather data.\n",
            "   - Engage local market research firms to gain deeper insights into consumer preferences.\n",
            "   - Analyze trends and economic indicators to forecast market potential.\n",
            "\n",
            "**b. Adapt the Product for the Target Market**\n",
            "   - Collaborate with local experts to ensure cultural relevance.\n",
            "   - Test prototypes with focus groups to gather feedback on adaptations.\n",
            "   - Ensure that the product complies with local safety and environmental regulations.\n",
            "\n",
            "**c. Create a Marketing and Sales Strategy**\n",
            "   - Develop a unique value proposition tailored to the target market.\n",
            "   - Leverage social media platforms popular in the region for targeted advertising.\n",
            "   - Plan promotional events or partnerships with local influencers to build brand awareness.\n",
            "\n",
            "**d. Plan Logistics and Supply Chain**\n",
            "   - Map out the supply chain from production to delivery, identifying potential bottlenecks.\n",
            "   - Implement a robust inventory management system to track stock levels and sales.\n",
            "   - Consider using local fulfillment centers to reduce shipping times and costs.\n",
            "\n",
            "**e. Comply with Legal and Regulatory Requirements**\n",
            "   - Consult with legal experts to navigate the regulatory landscape.\n",
            "   - Create a compliance checklist to ensure all aspects of the product meet local laws.\n",
            "   - Stay updated on any changes in regulations that may affect the product.\n",
            "\n",
            "---\n",
            "\n",
            "#### 4. Summarize the Plan and Recommend Actionable Next Steps\n",
            "\n",
            "**Summary of the Plan:**\n",
            "To successfully launch the product internationally, the company must conduct thorough market research, adapt the product to meet local needs, create a targeted marketing and sales strategy, plan an efficient logistics and supply chain, and ensure compliance with all legal and regulatory requirements.\n",
            "\n",
            "**Actionable Next Steps:**\n",
            "1. **Initiate Market Research:** Start by hiring a local market research firm to gather insights on potential markets.\n",
            "2. **Product Adaptation:** Form a cross-functional team to begin product modifications based on research findings.\n",
            "3. **Develop Marketing Strategy:** Schedule brainstorming sessions to outline the marketing plan and identify key sales channels.\n",
            "4. **Logistics Planning:** Engage with logistics partners to discuss distribution options and establish a supply chain plan.\n",
            "5. **Legal Compliance:** Consult with legal advisors to create a compliance roadmap and begin the certification process.\n",
            "\n",
            "By following these steps, the company can effectively prepare for a successful international product launch.\n"
          ]
        }
      ]
    },
    {
      "cell_type": "markdown",
      "source": [
        "### AOT - Action Oriented Thought"
      ],
      "metadata": {
        "id": "2Bw6l-o-zUl8"
      }
    },
    {
      "cell_type": "code",
      "source": [
        "# Normal Prompting (Failure Case)\n",
        "normal_prompt = \"\"\"\n",
        "How can a company plan a corporate event?\n",
        "\"\"\"\n",
        "print(\"Normal Prompting Response:\")\n",
        "print(query_gpt(normal_prompt))"
      ],
      "metadata": {
        "colab": {
          "base_uri": "https://localhost:8080/"
        },
        "id": "BTJRoff5zcRk",
        "outputId": "9c51d1b1-4753-4435-e635-5f8a4b94aef6"
      },
      "execution_count": 22,
      "outputs": [
        {
          "output_type": "stream",
          "name": "stdout",
          "text": [
            "Normal Prompting Response:\n",
            "Planning a corporate event involves several key steps to ensure its success. Here’s a comprehensive guide to help a company organize an effective corporate event:\n",
            "\n",
            "### 1. Define the Purpose and Objectives\n",
            "- **Identify Goals**: Determine the primary purpose of the event (e.g., networking, training, product launch, team building).\n",
            "- **Set Objectives**: Establish measurable objectives (e.g., number of attendees, amount of funds raised, feedback scores).\n",
            "\n",
            "### 2. Establish a Budget\n",
            "- **Determine Total Budget**: Consider all potential costs, including venue, catering, entertainment, marketing, and materials.\n",
            "- **Allocate Funds**: Break down the budget into categories and allocate funds accordingly.\n",
            "\n",
            "### 3. Choose a Date and Venue\n",
            "- **Select a Date**: Choose a date that avoids conflicts with major holidays or industry events.\n",
            "- **Find a Venue**: Look for a location that fits the event size, theme, and budget. Consider accessibility, facilities, and amenities.\n",
            "\n",
            "### 4. Create a Planning Team\n",
            "- **Assemble a Team**: Form a team with members from different departments (e.g., marketing, HR, finance) to cover various aspects of the event.\n",
            "- **Assign Roles**: Clearly define roles and responsibilities for each team member.\n",
            "\n",
            "### 5. Develop an Agenda\n",
            "- **Outline the Schedule**: Create a detailed agenda that includes start and end times, breaks, and activities.\n",
            "- **Plan Activities**: Incorporate speakers, workshops, entertainment, or networking opportunities as needed.\n",
            "\n",
            "### 6. Arrange Logistics\n",
            "- **Catering**: Decide on food and beverage options, considering dietary restrictions.\n",
            "- **Technology**: Arrange for audio-visual equipment, Wi-Fi, and any other tech needs.\n",
            "- **Transportation**: Consider transportation options for attendees, especially if the venue is remote.\n",
            "\n",
            "### 7. Promote the Event\n",
            "- **Create Marketing Materials**: Develop invitations, flyers, and digital content to promote the event.\n",
            "- **Utilize Channels**: Use email, social media, and company newsletters to reach potential attendees.\n",
            "- **Registration**: Set up a registration process, whether online or through a dedicated contact.\n",
            "\n",
            "### 8. Prepare for the Day of the Event\n",
            "- **Confirm Details**: Double-check all arrangements with vendors, speakers, and the venue.\n",
            "- **Set Up**: Arrive early to oversee the setup of the venue, including seating, signage, and technology.\n",
            "- **Staff Coordination**: Ensure that team members know their roles and responsibilities for the day.\n",
            "\n",
            "### 9. Execute the Event\n",
            "- **Engage Attendees**: Welcome guests, facilitate networking, and ensure the agenda runs smoothly.\n",
            "- **Monitor Feedback**: Be attentive to attendee feedback during the event to address any issues promptly.\n",
            "\n",
            "### 10. Follow Up After the Event\n",
            "- **Thank You Notes**: Send thank-you messages to attendees, speakers, and vendors.\n",
            "- **Gather Feedback**: Distribute surveys to collect feedback on the event’s success and areas for improvement.\n",
            "- **Evaluate Success**: Review the event against the initial objectives and budget to assess its overall success.\n",
            "\n",
            "### 11. Document and Reflect\n",
            "- **Create a Report**: Document the planning process, outcomes, and lessons learned for future reference.\n",
            "- **Share Insights**: Discuss the event with the planning team and stakeholders to identify what worked well and what could be improved.\n",
            "\n",
            "By following these steps, a company can effectively plan and execute a corporate event that meets its objectives and provides a positive experience for attendees.\n"
          ]
        }
      ]
    },
    {
      "cell_type": "code",
      "source": [
        "# AOT Solution\n",
        "aot_prompt = \"\"\"\n",
        "Problem: How can a company plan a corporate event?\n",
        "\n",
        "Use the AOT (Action-Oriented Thought) framework:\n",
        "1. Define the goal: Successfully organize a corporate event.\n",
        "2. Break down the process into actionable steps:\n",
        "   a. Define objectives (e.g., networking, team-building).\n",
        "   b. Choose a venue and date.\n",
        "   c. Create an agenda for the event.\n",
        "   d. Assign roles and responsibilities (e.g., catering, logistics).\n",
        "   e. Manage invitations and RSVPs.\n",
        "   f. Ensure proper execution on the event day.\n",
        "3. Assign stakeholders to each action and set priorities.\n",
        "4. Provide an example actionable plan for a 1-day corporate seminar.\n",
        "\n",
        "Simulate the AOT framework in your response.\n",
        "\"\"\"\n",
        "print(\"\\nAOT Response:\")\n",
        "print(query_gpt(aot_prompt))"
      ],
      "metadata": {
        "colab": {
          "base_uri": "https://localhost:8080/"
        },
        "id": "ooWBJ5B9zcVT",
        "outputId": "ae4ace8f-a0e0-46ad-d3b5-86fbc70fa9f9"
      },
      "execution_count": 23,
      "outputs": [
        {
          "output_type": "stream",
          "name": "stdout",
          "text": [
            "\n",
            "AOT Response:\n",
            "### AOT Framework for Planning a Corporate Event\n",
            "\n",
            "#### 1. Define the Goal:\n",
            "Successfully organize a corporate event that meets the company's objectives and provides value to attendees.\n",
            "\n",
            "#### 2. Break Down the Process into Actionable Steps:\n",
            "\n",
            "**a. Define Objectives:**\n",
            "   - Identify the primary goals of the event (e.g., networking, team-building, training).\n",
            "   - Example: The objective is to enhance team collaboration and provide professional development.\n",
            "\n",
            "**b. Choose a Venue and Date:**\n",
            "   - Research potential venues that can accommodate the expected number of attendees.\n",
            "   - Select a date that avoids conflicts with other company events or holidays.\n",
            "   - Example: Venue - Local conference center; Date - March 15, 2024.\n",
            "\n",
            "**c. Create an Agenda for the Event:**\n",
            "   - Outline the schedule, including keynote speakers, breakout sessions, and networking opportunities.\n",
            "   - Example Agenda:\n",
            "     - 9:00 AM - Registration\n",
            "     - 9:30 AM - Opening Remarks\n",
            "     - 10:00 AM - Keynote Speaker\n",
            "     - 11:00 AM - Breakout Session 1\n",
            "     - 12:00 PM - Lunch\n",
            "     - 1:00 PM - Breakout Session 2\n",
            "     - 2:00 PM - Panel Discussion\n",
            "     - 3:00 PM - Networking Session\n",
            "     - 4:00 PM - Closing Remarks\n",
            "\n",
            "**d. Assign Roles and Responsibilities:**\n",
            "   - Identify team members responsible for various aspects of the event (e.g., catering, logistics, marketing).\n",
            "   - Example Assignments:\n",
            "     - Catering: Sarah\n",
            "     - Logistics: John\n",
            "     - Marketing: Emily\n",
            "     - Registration: Mark\n",
            "\n",
            "**e. Manage Invitations and RSVPs:**\n",
            "   - Create a guest list and send out invitations.\n",
            "   - Set up an RSVP system to track attendance.\n",
            "   - Example: Use an online platform (e.g., Eventbrite) for invitations and RSVPs.\n",
            "\n",
            "**f. Ensure Proper Execution on the Event Day:**\n",
            "   - Conduct a final walkthrough of the venue.\n",
            "   - Confirm all arrangements (catering, AV equipment, seating).\n",
            "   - Assign team members to specific tasks (e.g., registration desk, tech support).\n",
            "   - Example: Team meeting at 8:00 AM on the event day to review roles and responsibilities.\n",
            "\n",
            "#### 3. Assign Stakeholders to Each Action and Set Priorities:\n",
            "\n",
            "| Action Item                        | Stakeholder | Priority Level |\n",
            "|-----------------------------------|-------------|----------------|\n",
            "| Define Objectives                 | Event Planner | High           |\n",
            "| Choose Venue and Date            | Event Planner | High           |\n",
            "| Create Agenda                     | Event Planner | Medium         |\n",
            "| Assign Roles and Responsibilities  | Event Planner | High           |\n",
            "| Manage Invitations and RSVPs      | Marketing Team | Medium         |\n",
            "| Ensure Proper Execution on Event Day | All Team Members | High           |\n",
            "\n",
            "#### 4. Example Actionable Plan for a 1-Day Corporate Seminar:\n",
            "\n",
            "**Event Title:** \"Collaboration for Success: A Corporate Seminar\"\n",
            "\n",
            "**Date:** March 15, 2024  \n",
            "**Venue:** Local Conference Center\n",
            "\n",
            "**Action Plan:**\n",
            "1. **Define Objectives:**\n",
            "   - Enhance team collaboration and provide professional development.\n",
            "   \n",
            "2. **Choose Venue and Date:**\n",
            "   - Venue confirmed; date set.\n",
            "\n",
            "3. **Create Agenda:**\n",
            "   - Finalize agenda by February 15, 2024.\n",
            "\n",
            "4. **Assign Roles and Responsibilities:**\n",
            "   - Confirm assignments by February 20, 2024.\n",
            "\n",
            "5. **Manage Invitations and RSVPs:**\n",
            "   - Send invitations by February 25, 2024.\n",
            "   - Track RSVPs until March 10, 2024.\n",
            "\n",
            "6. **Ensure Proper Execution on Event Day:**\n",
            "   - Conduct a final venue walkthrough on March 14, 2024.\n",
            "   - Team meeting at 8:00 AM on March 15, 2024.\n",
            "\n",
            "By following this structured approach using the AOT framework, the company can effectively plan and execute a successful corporate event that meets its objectives and provides a valuable experience for attendees.\n"
          ]
        }
      ]
    }
  ]
}