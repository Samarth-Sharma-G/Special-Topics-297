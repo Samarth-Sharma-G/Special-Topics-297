{
  "nbformat": 4,
  "nbformat_minor": 0,
  "metadata": {
    "colab": {
      "provenance": [],
      "gpuType": "T4"
    },
    "kernelspec": {
      "name": "python3",
      "display_name": "Python 3"
    },
    "language_info": {
      "name": "python"
    },
    "accelerator": "GPU",
    "widgets": {
      "application/vnd.jupyter.widget-state+json": {
        "fb634eeb341145aca4ef2bb7f1c5eeac": {
          "model_module": "@jupyter-widgets/controls",
          "model_name": "HBoxModel",
          "model_module_version": "1.5.0",
          "state": {
            "_dom_classes": [],
            "_model_module": "@jupyter-widgets/controls",
            "_model_module_version": "1.5.0",
            "_model_name": "HBoxModel",
            "_view_count": null,
            "_view_module": "@jupyter-widgets/controls",
            "_view_module_version": "1.5.0",
            "_view_name": "HBoxView",
            "box_style": "",
            "children": [
              "IPY_MODEL_414b7fa81eec492f8d409c222d04a7e5",
              "IPY_MODEL_c29d5bf3bb8847e1bbef1c025bf787d9",
              "IPY_MODEL_3651bca9e7744714b7256f69327ceb68"
            ],
            "layout": "IPY_MODEL_86a63f37232144ac98a1c0a474f1c267"
          }
        },
        "414b7fa81eec492f8d409c222d04a7e5": {
          "model_module": "@jupyter-widgets/controls",
          "model_name": "HTMLModel",
          "model_module_version": "1.5.0",
          "state": {
            "_dom_classes": [],
            "_model_module": "@jupyter-widgets/controls",
            "_model_module_version": "1.5.0",
            "_model_name": "HTMLModel",
            "_view_count": null,
            "_view_module": "@jupyter-widgets/controls",
            "_view_module_version": "1.5.0",
            "_view_name": "HTMLView",
            "description": "",
            "description_tooltip": null,
            "layout": "IPY_MODEL_d899d5752def4b4c94bb3ab71877b173",
            "placeholder": "​",
            "style": "IPY_MODEL_80e20990d655485288f6adae0c6f7163",
            "value": "Loading checkpoint shards: 100%"
          }
        },
        "c29d5bf3bb8847e1bbef1c025bf787d9": {
          "model_module": "@jupyter-widgets/controls",
          "model_name": "FloatProgressModel",
          "model_module_version": "1.5.0",
          "state": {
            "_dom_classes": [],
            "_model_module": "@jupyter-widgets/controls",
            "_model_module_version": "1.5.0",
            "_model_name": "FloatProgressModel",
            "_view_count": null,
            "_view_module": "@jupyter-widgets/controls",
            "_view_module_version": "1.5.0",
            "_view_name": "ProgressView",
            "bar_style": "success",
            "description": "",
            "description_tooltip": null,
            "layout": "IPY_MODEL_2a981ef45e304f378bac7209551a6a84",
            "max": 7,
            "min": 0,
            "orientation": "horizontal",
            "style": "IPY_MODEL_bf8b39e5860d4e1cb3d185614a9f32aa",
            "value": 7
          }
        },
        "3651bca9e7744714b7256f69327ceb68": {
          "model_module": "@jupyter-widgets/controls",
          "model_name": "HTMLModel",
          "model_module_version": "1.5.0",
          "state": {
            "_dom_classes": [],
            "_model_module": "@jupyter-widgets/controls",
            "_model_module_version": "1.5.0",
            "_model_name": "HTMLModel",
            "_view_count": null,
            "_view_module": "@jupyter-widgets/controls",
            "_view_module_version": "1.5.0",
            "_view_name": "HTMLView",
            "description": "",
            "description_tooltip": null,
            "layout": "IPY_MODEL_678c0cb1a1fc4e3fa830f057e55fc65b",
            "placeholder": "​",
            "style": "IPY_MODEL_6fd44116c0e04e6d8cfc0d82d0fd2d65",
            "value": " 7/7 [00:00&lt;00:00,  2.91it/s]"
          }
        },
        "86a63f37232144ac98a1c0a474f1c267": {
          "model_module": "@jupyter-widgets/base",
          "model_name": "LayoutModel",
          "model_module_version": "1.2.0",
          "state": {
            "_model_module": "@jupyter-widgets/base",
            "_model_module_version": "1.2.0",
            "_model_name": "LayoutModel",
            "_view_count": null,
            "_view_module": "@jupyter-widgets/base",
            "_view_module_version": "1.2.0",
            "_view_name": "LayoutView",
            "align_content": null,
            "align_items": null,
            "align_self": null,
            "border": null,
            "bottom": null,
            "display": null,
            "flex": null,
            "flex_flow": null,
            "grid_area": null,
            "grid_auto_columns": null,
            "grid_auto_flow": null,
            "grid_auto_rows": null,
            "grid_column": null,
            "grid_gap": null,
            "grid_row": null,
            "grid_template_areas": null,
            "grid_template_columns": null,
            "grid_template_rows": null,
            "height": null,
            "justify_content": null,
            "justify_items": null,
            "left": null,
            "margin": null,
            "max_height": null,
            "max_width": null,
            "min_height": null,
            "min_width": null,
            "object_fit": null,
            "object_position": null,
            "order": null,
            "overflow": null,
            "overflow_x": null,
            "overflow_y": null,
            "padding": null,
            "right": null,
            "top": null,
            "visibility": null,
            "width": null
          }
        },
        "d899d5752def4b4c94bb3ab71877b173": {
          "model_module": "@jupyter-widgets/base",
          "model_name": "LayoutModel",
          "model_module_version": "1.2.0",
          "state": {
            "_model_module": "@jupyter-widgets/base",
            "_model_module_version": "1.2.0",
            "_model_name": "LayoutModel",
            "_view_count": null,
            "_view_module": "@jupyter-widgets/base",
            "_view_module_version": "1.2.0",
            "_view_name": "LayoutView",
            "align_content": null,
            "align_items": null,
            "align_self": null,
            "border": null,
            "bottom": null,
            "display": null,
            "flex": null,
            "flex_flow": null,
            "grid_area": null,
            "grid_auto_columns": null,
            "grid_auto_flow": null,
            "grid_auto_rows": null,
            "grid_column": null,
            "grid_gap": null,
            "grid_row": null,
            "grid_template_areas": null,
            "grid_template_columns": null,
            "grid_template_rows": null,
            "height": null,
            "justify_content": null,
            "justify_items": null,
            "left": null,
            "margin": null,
            "max_height": null,
            "max_width": null,
            "min_height": null,
            "min_width": null,
            "object_fit": null,
            "object_position": null,
            "order": null,
            "overflow": null,
            "overflow_x": null,
            "overflow_y": null,
            "padding": null,
            "right": null,
            "top": null,
            "visibility": null,
            "width": null
          }
        },
        "80e20990d655485288f6adae0c6f7163": {
          "model_module": "@jupyter-widgets/controls",
          "model_name": "DescriptionStyleModel",
          "model_module_version": "1.5.0",
          "state": {
            "_model_module": "@jupyter-widgets/controls",
            "_model_module_version": "1.5.0",
            "_model_name": "DescriptionStyleModel",
            "_view_count": null,
            "_view_module": "@jupyter-widgets/base",
            "_view_module_version": "1.2.0",
            "_view_name": "StyleView",
            "description_width": ""
          }
        },
        "2a981ef45e304f378bac7209551a6a84": {
          "model_module": "@jupyter-widgets/base",
          "model_name": "LayoutModel",
          "model_module_version": "1.2.0",
          "state": {
            "_model_module": "@jupyter-widgets/base",
            "_model_module_version": "1.2.0",
            "_model_name": "LayoutModel",
            "_view_count": null,
            "_view_module": "@jupyter-widgets/base",
            "_view_module_version": "1.2.0",
            "_view_name": "LayoutView",
            "align_content": null,
            "align_items": null,
            "align_self": null,
            "border": null,
            "bottom": null,
            "display": null,
            "flex": null,
            "flex_flow": null,
            "grid_area": null,
            "grid_auto_columns": null,
            "grid_auto_flow": null,
            "grid_auto_rows": null,
            "grid_column": null,
            "grid_gap": null,
            "grid_row": null,
            "grid_template_areas": null,
            "grid_template_columns": null,
            "grid_template_rows": null,
            "height": null,
            "justify_content": null,
            "justify_items": null,
            "left": null,
            "margin": null,
            "max_height": null,
            "max_width": null,
            "min_height": null,
            "min_width": null,
            "object_fit": null,
            "object_position": null,
            "order": null,
            "overflow": null,
            "overflow_x": null,
            "overflow_y": null,
            "padding": null,
            "right": null,
            "top": null,
            "visibility": null,
            "width": null
          }
        },
        "bf8b39e5860d4e1cb3d185614a9f32aa": {
          "model_module": "@jupyter-widgets/controls",
          "model_name": "ProgressStyleModel",
          "model_module_version": "1.5.0",
          "state": {
            "_model_module": "@jupyter-widgets/controls",
            "_model_module_version": "1.5.0",
            "_model_name": "ProgressStyleModel",
            "_view_count": null,
            "_view_module": "@jupyter-widgets/base",
            "_view_module_version": "1.2.0",
            "_view_name": "StyleView",
            "bar_color": null,
            "description_width": ""
          }
        },
        "678c0cb1a1fc4e3fa830f057e55fc65b": {
          "model_module": "@jupyter-widgets/base",
          "model_name": "LayoutModel",
          "model_module_version": "1.2.0",
          "state": {
            "_model_module": "@jupyter-widgets/base",
            "_model_module_version": "1.2.0",
            "_model_name": "LayoutModel",
            "_view_count": null,
            "_view_module": "@jupyter-widgets/base",
            "_view_module_version": "1.2.0",
            "_view_name": "LayoutView",
            "align_content": null,
            "align_items": null,
            "align_self": null,
            "border": null,
            "bottom": null,
            "display": null,
            "flex": null,
            "flex_flow": null,
            "grid_area": null,
            "grid_auto_columns": null,
            "grid_auto_flow": null,
            "grid_auto_rows": null,
            "grid_column": null,
            "grid_gap": null,
            "grid_row": null,
            "grid_template_areas": null,
            "grid_template_columns": null,
            "grid_template_rows": null,
            "height": null,
            "justify_content": null,
            "justify_items": null,
            "left": null,
            "margin": null,
            "max_height": null,
            "max_width": null,
            "min_height": null,
            "min_width": null,
            "object_fit": null,
            "object_position": null,
            "order": null,
            "overflow": null,
            "overflow_x": null,
            "overflow_y": null,
            "padding": null,
            "right": null,
            "top": null,
            "visibility": null,
            "width": null
          }
        },
        "6fd44116c0e04e6d8cfc0d82d0fd2d65": {
          "model_module": "@jupyter-widgets/controls",
          "model_name": "DescriptionStyleModel",
          "model_module_version": "1.5.0",
          "state": {
            "_model_module": "@jupyter-widgets/controls",
            "_model_module_version": "1.5.0",
            "_model_name": "DescriptionStyleModel",
            "_view_count": null,
            "_view_module": "@jupyter-widgets/base",
            "_view_module_version": "1.2.0",
            "_view_name": "StyleView",
            "description_width": ""
          }
        }
      }
    }
  },
  "cells": [
    {
      "cell_type": "code",
      "execution_count": null,
      "metadata": {
        "id": "ggONL3-JnKi9"
      },
      "outputs": [],
      "source": [
        "# optional setup; use if the notebook is not running inside the rtfm conda environment\n",
        "!git clone https://github.com/mlfoundations/rtfm.git\n",
        "%cd rtfm\n",
        "\n",
        "# Ensure pip is up to date\n",
        "!pip install --upgrade pip\n",
        "\n",
        "# Install Python 3.8 using pip\n",
        "!pip install python==3.8\n",
        "\n",
        "# Install pip dependencies from requirements.txt\n",
        "!pip install -r requirements.txt\n",
        "\n",
        "# Install additional dependencies\n",
        "!pip install git+https://github.com/jpgard/llama-recipes.git\n",
        "!pip install -e .\n",
        "!pip install --no-deps git+https://github.com/mlfoundations/tableshift.git"
      ]
    },
    {
      "cell_type": "code",
      "source": [
        "!pip install tablib"
      ],
      "metadata": {
        "colab": {
          "base_uri": "https://localhost:8080/"
        },
        "id": "uZP7DAKWokqS",
        "outputId": "f4b19996-ddfd-4398-cac5-6758bf04d572"
      },
      "execution_count": 3,
      "outputs": [
        {
          "output_type": "stream",
          "name": "stdout",
          "text": [
            "Collecting tablib\n",
            "  Downloading tablib-3.7.0-py3-none-any.whl.metadata (3.8 kB)\n",
            "Downloading tablib-3.7.0-py3-none-any.whl (47 kB)\n",
            "Installing collected packages: tablib\n",
            "Successfully installed tablib-3.7.0\n"
          ]
        }
      ]
    },
    {
      "cell_type": "code",
      "source": [
        "import sys\n",
        "sys.path.append('/content/rtfm')"
      ],
      "metadata": {
        "id": "cWZynmkHpGCN"
      },
      "execution_count": 4,
      "outputs": []
    },
    {
      "cell_type": "code",
      "source": [
        "!pip install transformers accelerate"
      ],
      "metadata": {
        "id": "WbdGE73Du2lD"
      },
      "execution_count": null,
      "outputs": []
    },
    {
      "cell_type": "code",
      "source": [
        "import pandas as pd\n",
        "import torch\n",
        "from transformers import AutoTokenizer, LlamaForCausalLM, AutoConfig\n",
        "\n",
        "# Define TrainConfig and TokenizerConfig manually\n",
        "class TrainConfig:\n",
        "    def __init__(self, model_name, context_length=8192, serializer_cls=None):\n",
        "        self.model_name = model_name\n",
        "        self.context_length = context_length\n",
        "        self.serializer_cls = serializer_cls\n",
        "\n",
        "class TokenizerConfig:\n",
        "    def __init__(self, use_fast_tokenizer=True, add_serializer_tokens=False, serializer_tokens_embed_fn=None):\n",
        "        self.use_fast_tokenizer = use_fast_tokenizer\n",
        "        self.add_serializer_tokens = add_serializer_tokens\n",
        "        self.serializer_tokens_embed_fn = serializer_tokens_embed_fn\n",
        "\n",
        "# Initialize configuration\n",
        "train_config = TrainConfig(model_name=\"mlfoundations/tabula-8b\", context_length=8192)\n",
        "tokenizer_config = TokenizerConfig()\n",
        "\n",
        "# Load the configuration\n",
        "config = AutoConfig.from_pretrained(train_config.model_name)\n",
        "config.torch_dtype = torch.bfloat16  # Match TabuLa train/eval setup\n",
        "\n",
        "# Ensure device map is correctly set up\n",
        "device = \"cuda\" if torch.cuda.is_available() else \"cpu\"\n",
        "\n",
        "# Load the model with `accelerate` managing the device map\n",
        "model = LlamaForCausalLM.from_pretrained(\n",
        "    train_config.model_name,\n",
        "    device_map=\"auto\",  # Automatically manages device placement\n",
        "    offload_folder=\"./offload\",  # Directory to offload if needed\n",
        "    config=config\n",
        ")\n",
        "\n",
        "# Load the tokenizer\n",
        "tokenizer = AutoTokenizer.from_pretrained(train_config.model_name)\n",
        "\n",
        "# Dummy serializer implementation\n",
        "class DummySerializer:\n",
        "    def __init__(self):\n",
        "        self.special_tokens = [\"<|start|>\", \"<|end|>\"]\n",
        "\n",
        "serializer = DummySerializer()\n",
        "\n",
        "# Prepare tokenizer\n",
        "def prepare_tokenizer(model, tokenizer, pretrained_model_name_or_path, model_max_length, use_fast_tokenizer, serializer_tokens_embed_fn=None, serializer_tokens=None):\n",
        "    if serializer_tokens:\n",
        "        tokenizer.add_special_tokens({\"additional_special_tokens\": serializer_tokens})\n",
        "        model.resize_token_embeddings(len(tokenizer))\n",
        "    tokenizer.model_max_length = model_max_length\n",
        "    return tokenizer, model\n",
        "\n",
        "tokenizer, model = prepare_tokenizer(\n",
        "    model,\n",
        "    tokenizer=tokenizer,\n",
        "    pretrained_model_name_or_path=train_config.model_name,\n",
        "    model_max_length=train_config.context_length,\n",
        "    use_fast_tokenizer=tokenizer_config.use_fast_tokenizer,\n",
        "    serializer_tokens_embed_fn=tokenizer_config.serializer_tokens_embed_fn,\n",
        "    serializer_tokens=serializer.special_tokens\n",
        "    if tokenizer_config.add_serializer_tokens\n",
        "    else None,\n",
        ")\n",
        "\n",
        "# Set proper pad token\n",
        "tokenizer.pad_token = tokenizer.eos_token\n",
        "model.config.pad_token_id = tokenizer.pad_token_id"
      ],
      "metadata": {
        "colab": {
          "base_uri": "https://localhost:8080/",
          "height": 84,
          "referenced_widgets": [
            "fb634eeb341145aca4ef2bb7f1c5eeac",
            "414b7fa81eec492f8d409c222d04a7e5",
            "c29d5bf3bb8847e1bbef1c025bf787d9",
            "3651bca9e7744714b7256f69327ceb68",
            "86a63f37232144ac98a1c0a474f1c267",
            "d899d5752def4b4c94bb3ab71877b173",
            "80e20990d655485288f6adae0c6f7163",
            "2a981ef45e304f378bac7209551a6a84",
            "bf8b39e5860d4e1cb3d185614a9f32aa",
            "678c0cb1a1fc4e3fa830f057e55fc65b",
            "6fd44116c0e04e6d8cfc0d82d0fd2d65"
          ]
        },
        "id": "bS9Ij1JsxdKv",
        "outputId": "99124baf-d217-4bc8-fb4f-c4b05091c7cf"
      },
      "execution_count": 14,
      "outputs": [
        {
          "output_type": "display_data",
          "data": {
            "text/plain": [
              "Loading checkpoint shards:   0%|          | 0/7 [00:00<?, ?it/s]"
            ],
            "application/vnd.jupyter.widget-view+json": {
              "version_major": 2,
              "version_minor": 0,
              "model_id": "fb634eeb341145aca4ef2bb7f1c5eeac"
            }
          },
          "metadata": {}
        },
        {
          "output_type": "stream",
          "name": "stderr",
          "text": [
            "WARNING:accelerate.big_modeling:Some parameters are on the meta device because they were offloaded to the disk and cpu.\n",
            "Special tokens have been added in the vocabulary, make sure the associated word embeddings are fine-tuned or trained.\n"
          ]
        }
      ]
    },
    {
      "cell_type": "code",
      "source": [
        "import pandas as pd\n",
        "\n",
        "labeled_anime = pd.DataFrame(\n",
        "    [\n",
        "        {\"title\": \"Naruto\", \"genre\": \"Action\", \"episodes\": 220, \"rating\": 7.9, \"popularity\": 95, \"year\": 2002,\n",
        "         \"studio\": \"Pierrot\", \"source_material\": \"Manga\", \"completed_episodes\": 220, \"recommendation\": \"Yes\"},\n",
        "        {\"title\": \"Attack on Titan\", \"genre\": \"Action\", \"episodes\": 87, \"rating\": 9.1, \"popularity\": 98, \"year\": 2013,\n",
        "         \"studio\": \"Wit Studio\", \"source_material\": \"Manga\", \"completed_episodes\": 87, \"recommendation\": \"Yes\"},\n",
        "        {\"title\": \"Death Note\", \"genre\": \"Mystery\", \"episodes\": 37, \"rating\": 8.6, \"popularity\": 96, \"year\": 2006,\n",
        "         \"studio\": \"Madhouse\", \"source_material\": \"Manga\", \"completed_episodes\": 37, \"recommendation\": \"Yes\"},\n",
        "        {\"title\": \"One Piece\", \"genre\": \"Adventure\", \"episodes\": 1071, \"rating\": 8.7, \"popularity\": 97, \"year\": 1999,\n",
        "         \"studio\": \"Toei Animation\", \"source_material\": \"Manga\", \"completed_episodes\": 100, \"recommendation\": \"Yes\"},\n",
        "        {\"title\": \"My Hero Academia\", \"genre\": \"Action\", \"episodes\": 138, \"rating\": 8.0, \"popularity\": 94, \"year\": 2016,\n",
        "         \"studio\": \"Bones\", \"source_material\": \"Manga\", \"completed_episodes\": 120, \"recommendation\": \"Yes\"},\n",
        "        {\"title\": \"Tokyo Ghoul\", \"genre\": \"Horror\", \"episodes\": 48, \"rating\": 7.6, \"popularity\": 88, \"year\": 2014,\n",
        "         \"studio\": \"Pierrot\", \"source_material\": \"Manga\", \"completed_episodes\": 48, \"recommendation\": \"No\"},\n",
        "        {\"title\": \"Sword Art Online\", \"genre\": \"Fantasy\", \"episodes\": 96, \"rating\": 7.5, \"popularity\": 92, \"year\": 2012,\n",
        "         \"studio\": \"A-1 Pictures\", \"source_material\": \"Light Novel\", \"completed_episodes\": 96, \"recommendation\": \"No\"},\n",
        "        {\"title\": \"Demon Slayer\", \"genre\": \"Action\", \"episodes\": 44, \"rating\": 8.7, \"popularity\": 99, \"year\": 2019,\n",
        "         \"studio\": \"Ufotable\", \"source_material\": \"Manga\", \"completed_episodes\": 44, \"recommendation\": \"Yes\"},\n",
        "        {\"title\": \"Black Clover\", \"genre\": \"Fantasy\", \"episodes\": 170, \"rating\": 8.0, \"popularity\": 90, \"year\": 2017,\n",
        "         \"studio\": \"Pierrot\", \"source_material\": \"Manga\", \"completed_episodes\": 100, \"recommendation\": \"No\"},\n",
        "    ]\n",
        ")\n",
        "\n",
        "target_anime = pd.DataFrame(\n",
        "    [\n",
        "        {\"title\": \"Jujutsu Kaisen\", \"genre\": \"Action\", \"episodes\": 24, \"rating\": 8.9, \"popularity\": 98, \"year\": 2020,\n",
        "         \"studio\": \"MAPPA\", \"source_material\": \"Manga\", \"completed_episodes\": 24},\n",
        "    ]\n",
        ")\n",
        "\n",
        "output = model.predict(\n",
        "    target_example=target_anime,\n",
        "    target_colname=\"recommendation\",\n",
        "    target_choices=[\"Yes\", \"No\"],\n",
        "    labeled_examples=labeled_anime,\n",
        ")\n",
        "print(f\"Prediction for sample \\n {target_anime} \\n is: {output}\")\n"
      ],
      "metadata": {
        "colab": {
          "base_uri": "https://localhost:8080/"
        },
        "id": "l3i1ltfl0FEP",
        "outputId": "05d641e4-7e85-4fe3-e2b5-65b5c54e2983"
      },
      "execution_count": 17,
      "outputs": [
        {
          "output_type": "stream",
          "name": "stdout",
          "text": [
            "Prediction for sample\n",
            "            title   genre  episodes  rating  popularity  year studio  \\\n",
            "0  Jujutsu Kaisen  Action        24     8.9          98  2020  MAPPA   \n",
            "\n",
            "  source_material  completed_episodes  \n",
            "0           Manga                  24  \n",
            "is: Yes\n"
          ]
        }
      ]
    }
  ]
}